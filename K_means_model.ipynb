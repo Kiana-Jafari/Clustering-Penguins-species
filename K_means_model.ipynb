{
  "cells": [
    {
      "cell_type": "markdown",
      "metadata": {
        "id": "700acefd-8120-42a9-a650-c610467e2a4c"
      },
      "source": [
        "# Exemplar: Build a K-means model\n",
        "\n",
        "## **Introduction**\n",
        "\n",
        "K-means clustering is very effective when segmenting data and attempting to find patterns. Because clustering is used in a broad array of industries, becoming proficient in this process will help you expand your skillset in a widely applicable way.   \n",
        "\n",
        "In this activity, you are a consultant for a scientific organization that works to support and sustain penguin colonies. You are tasked with helping other staff members learn more about penguins in order to achieve this mission.\n",
        "\n",
        "The data for this activity is in a spreadsheet that includes datapoints across a sample size of 345 penguins, such as species, island, and sex. You will use a K-means clustering model to group this data and identify patterns that provide important insights about penguins.\n",
        "\n",
        "**Note:** Because this lab uses a real dataset, this notebook will first require basic EDA, data cleaning, and other manipulations to prepare the data for modeling."
      ],
      "id": "700acefd-8120-42a9-a650-c610467e2a4c"
    },
    {
      "cell_type": "markdown",
      "metadata": {
        "id": "b42252b9-b980-4ee0-8cfd-82f4239b6d1a"
      },
      "source": [
        "## **Step 1: Imports**"
      ],
      "id": "b42252b9-b980-4ee0-8cfd-82f4239b6d1a"
    },
    {
      "cell_type": "markdown",
      "metadata": {
        "id": "oz38PANKW0ys"
      },
      "source": [
        "Import statements including `K-means`, `silhouette_score`, and `StandardScaler`.### Import packages."
      ],
      "id": "oz38PANKW0ys"
    },
    {
      "cell_type": "code",
      "execution_count": 1,
      "metadata": {
        "id": "aacf7b0d-d652-46c4-a9fc-f1ff377bdd0c"
      },
      "outputs": [],
      "source": [
        "# Import standard operational packages.\n",
        "import numpy as np\n",
        "import pandas as pd\n",
        "\n",
        "# Important tools for modeling and evaluation.\n",
        "from sklearn.cluster import KMeans\n",
        "from sklearn.metrics import silhouette_score\n",
        "from sklearn.preprocessing import StandardScaler\n",
        "\n",
        "# Import visualization packages.\n",
        "import matplotlib.pyplot as plt\n",
        "import seaborn as sns"
      ],
      "id": "aacf7b0d-d652-46c4-a9fc-f1ff377bdd0c"
    },
    {
      "cell_type": "markdown",
      "metadata": {
        "id": "6b7f8803-44ee-47cf-b97a-efaf5c0fdd59",
        "tags": []
      },
      "source": [
        "`Pandas` is used to load the penguins dataset, which is built into the `seaborn` library. The resulting `pandas` DataFrame is saved in a variable named `penguins`. As shown in this cell, the dataset has been automatically loaded in for you. You do not need to download the .csv file, or provide more code, in order to access the dataset and proceed with this lab. Please continue with this activity by completing the following instructions."
      ],
      "id": "6b7f8803-44ee-47cf-b97a-efaf5c0fdd59"
    },
    {
      "cell_type": "code",
      "execution_count": 2,
      "metadata": {
        "id": "80535d2f-8b1a-4715-b07a-f3734d8cc4c5"
      },
      "outputs": [],
      "source": [
        "# RUN THIS CELL TO IMPORT YOUR DATA.\n",
        "\n",
        "# Save the `pandas` DataFrame in variable `penguins`.\n",
        "\n",
        "### YOUR CODE HERE ###\n",
        "\n",
        "penguins = sns.load_dataset(\"penguins\")"
      ],
      "id": "80535d2f-8b1a-4715-b07a-f3734d8cc4c5"
    },
    {
      "cell_type": "markdown",
      "metadata": {
        "id": "0irW2qcaah5S"
      },
      "source": [
        "<details>\n",
        "  <summary><h4><strong>Hint 1</strong></h4></summary>\n",
        "\n",
        "Use the `load_dataset` function.\n",
        "\n",
        "</details>"
      ],
      "id": "0irW2qcaah5S"
    },
    {
      "cell_type": "markdown",
      "metadata": {
        "id": "WvSKXhDFI0sK"
      },
      "source": [
        "<details>\n",
        "  <summary><h4><strong>Hint 2</strong></h4></summary>\n",
        "\n",
        "The function is from seaborn (`sns`). It should be passed in the dataset name `'penguins'` as a string.\n",
        "\n",
        "</details>"
      ],
      "id": "WvSKXhDFI0sK"
    },
    {
      "cell_type": "markdown",
      "metadata": {
        "id": "46448192-f2f8-4f78-9f76-6e4bb699da7b"
      },
      "source": [
        "Now, review the first 10 rows of data.\n"
      ],
      "id": "46448192-f2f8-4f78-9f76-6e4bb699da7b"
    },
    {
      "cell_type": "code",
      "execution_count": 3,
      "metadata": {
        "colab": {
          "base_uri": "https://localhost:8080/",
          "height": 383
        },
        "id": "U8JZjN-zJwx6",
        "outputId": "7f25f993-810d-4dce-ccf2-edfa787655a3"
      },
      "outputs": [
        {
          "output_type": "execute_result",
          "data": {
            "text/plain": [
              "  species     island  bill_length_mm  bill_depth_mm  flipper_length_mm  \\\n",
              "0  Adelie  Torgersen            39.1           18.7              181.0   \n",
              "1  Adelie  Torgersen            39.5           17.4              186.0   \n",
              "2  Adelie  Torgersen            40.3           18.0              195.0   \n",
              "3  Adelie  Torgersen             NaN            NaN                NaN   \n",
              "4  Adelie  Torgersen            36.7           19.3              193.0   \n",
              "5  Adelie  Torgersen            39.3           20.6              190.0   \n",
              "6  Adelie  Torgersen            38.9           17.8              181.0   \n",
              "7  Adelie  Torgersen            39.2           19.6              195.0   \n",
              "8  Adelie  Torgersen            34.1           18.1              193.0   \n",
              "9  Adelie  Torgersen            42.0           20.2              190.0   \n",
              "\n",
              "   body_mass_g     sex  \n",
              "0       3750.0    Male  \n",
              "1       3800.0  Female  \n",
              "2       3250.0  Female  \n",
              "3          NaN     NaN  \n",
              "4       3450.0  Female  \n",
              "5       3650.0    Male  \n",
              "6       3625.0  Female  \n",
              "7       4675.0    Male  \n",
              "8       3475.0     NaN  \n",
              "9       4250.0     NaN  "
            ],
            "text/html": [
              "\n",
              "  <div id=\"df-a2074e2c-290f-4377-a2c7-4c4be14513b8\" class=\"colab-df-container\">\n",
              "    <div>\n",
              "<style scoped>\n",
              "    .dataframe tbody tr th:only-of-type {\n",
              "        vertical-align: middle;\n",
              "    }\n",
              "\n",
              "    .dataframe tbody tr th {\n",
              "        vertical-align: top;\n",
              "    }\n",
              "\n",
              "    .dataframe thead th {\n",
              "        text-align: right;\n",
              "    }\n",
              "</style>\n",
              "<table border=\"1\" class=\"dataframe\">\n",
              "  <thead>\n",
              "    <tr style=\"text-align: right;\">\n",
              "      <th></th>\n",
              "      <th>species</th>\n",
              "      <th>island</th>\n",
              "      <th>bill_length_mm</th>\n",
              "      <th>bill_depth_mm</th>\n",
              "      <th>flipper_length_mm</th>\n",
              "      <th>body_mass_g</th>\n",
              "      <th>sex</th>\n",
              "    </tr>\n",
              "  </thead>\n",
              "  <tbody>\n",
              "    <tr>\n",
              "      <th>0</th>\n",
              "      <td>Adelie</td>\n",
              "      <td>Torgersen</td>\n",
              "      <td>39.1</td>\n",
              "      <td>18.7</td>\n",
              "      <td>181.0</td>\n",
              "      <td>3750.0</td>\n",
              "      <td>Male</td>\n",
              "    </tr>\n",
              "    <tr>\n",
              "      <th>1</th>\n",
              "      <td>Adelie</td>\n",
              "      <td>Torgersen</td>\n",
              "      <td>39.5</td>\n",
              "      <td>17.4</td>\n",
              "      <td>186.0</td>\n",
              "      <td>3800.0</td>\n",
              "      <td>Female</td>\n",
              "    </tr>\n",
              "    <tr>\n",
              "      <th>2</th>\n",
              "      <td>Adelie</td>\n",
              "      <td>Torgersen</td>\n",
              "      <td>40.3</td>\n",
              "      <td>18.0</td>\n",
              "      <td>195.0</td>\n",
              "      <td>3250.0</td>\n",
              "      <td>Female</td>\n",
              "    </tr>\n",
              "    <tr>\n",
              "      <th>3</th>\n",
              "      <td>Adelie</td>\n",
              "      <td>Torgersen</td>\n",
              "      <td>NaN</td>\n",
              "      <td>NaN</td>\n",
              "      <td>NaN</td>\n",
              "      <td>NaN</td>\n",
              "      <td>NaN</td>\n",
              "    </tr>\n",
              "    <tr>\n",
              "      <th>4</th>\n",
              "      <td>Adelie</td>\n",
              "      <td>Torgersen</td>\n",
              "      <td>36.7</td>\n",
              "      <td>19.3</td>\n",
              "      <td>193.0</td>\n",
              "      <td>3450.0</td>\n",
              "      <td>Female</td>\n",
              "    </tr>\n",
              "    <tr>\n",
              "      <th>5</th>\n",
              "      <td>Adelie</td>\n",
              "      <td>Torgersen</td>\n",
              "      <td>39.3</td>\n",
              "      <td>20.6</td>\n",
              "      <td>190.0</td>\n",
              "      <td>3650.0</td>\n",
              "      <td>Male</td>\n",
              "    </tr>\n",
              "    <tr>\n",
              "      <th>6</th>\n",
              "      <td>Adelie</td>\n",
              "      <td>Torgersen</td>\n",
              "      <td>38.9</td>\n",
              "      <td>17.8</td>\n",
              "      <td>181.0</td>\n",
              "      <td>3625.0</td>\n",
              "      <td>Female</td>\n",
              "    </tr>\n",
              "    <tr>\n",
              "      <th>7</th>\n",
              "      <td>Adelie</td>\n",
              "      <td>Torgersen</td>\n",
              "      <td>39.2</td>\n",
              "      <td>19.6</td>\n",
              "      <td>195.0</td>\n",
              "      <td>4675.0</td>\n",
              "      <td>Male</td>\n",
              "    </tr>\n",
              "    <tr>\n",
              "      <th>8</th>\n",
              "      <td>Adelie</td>\n",
              "      <td>Torgersen</td>\n",
              "      <td>34.1</td>\n",
              "      <td>18.1</td>\n",
              "      <td>193.0</td>\n",
              "      <td>3475.0</td>\n",
              "      <td>NaN</td>\n",
              "    </tr>\n",
              "    <tr>\n",
              "      <th>9</th>\n",
              "      <td>Adelie</td>\n",
              "      <td>Torgersen</td>\n",
              "      <td>42.0</td>\n",
              "      <td>20.2</td>\n",
              "      <td>190.0</td>\n",
              "      <td>4250.0</td>\n",
              "      <td>NaN</td>\n",
              "    </tr>\n",
              "  </tbody>\n",
              "</table>\n",
              "</div>\n",
              "    <div class=\"colab-df-buttons\">\n",
              "\n",
              "  <div class=\"colab-df-container\">\n",
              "    <button class=\"colab-df-convert\" onclick=\"convertToInteractive('df-a2074e2c-290f-4377-a2c7-4c4be14513b8')\"\n",
              "            title=\"Convert this dataframe to an interactive table.\"\n",
              "            style=\"display:none;\">\n",
              "\n",
              "  <svg xmlns=\"http://www.w3.org/2000/svg\" height=\"24px\" viewBox=\"0 -960 960 960\">\n",
              "    <path d=\"M120-120v-720h720v720H120Zm60-500h600v-160H180v160Zm220 220h160v-160H400v160Zm0 220h160v-160H400v160ZM180-400h160v-160H180v160Zm440 0h160v-160H620v160ZM180-180h160v-160H180v160Zm440 0h160v-160H620v160Z\"/>\n",
              "  </svg>\n",
              "    </button>\n",
              "\n",
              "  <style>\n",
              "    .colab-df-container {\n",
              "      display:flex;\n",
              "      gap: 12px;\n",
              "    }\n",
              "\n",
              "    .colab-df-convert {\n",
              "      background-color: #E8F0FE;\n",
              "      border: none;\n",
              "      border-radius: 50%;\n",
              "      cursor: pointer;\n",
              "      display: none;\n",
              "      fill: #1967D2;\n",
              "      height: 32px;\n",
              "      padding: 0 0 0 0;\n",
              "      width: 32px;\n",
              "    }\n",
              "\n",
              "    .colab-df-convert:hover {\n",
              "      background-color: #E2EBFA;\n",
              "      box-shadow: 0px 1px 2px rgba(60, 64, 67, 0.3), 0px 1px 3px 1px rgba(60, 64, 67, 0.15);\n",
              "      fill: #174EA6;\n",
              "    }\n",
              "\n",
              "    .colab-df-buttons div {\n",
              "      margin-bottom: 4px;\n",
              "    }\n",
              "\n",
              "    [theme=dark] .colab-df-convert {\n",
              "      background-color: #3B4455;\n",
              "      fill: #D2E3FC;\n",
              "    }\n",
              "\n",
              "    [theme=dark] .colab-df-convert:hover {\n",
              "      background-color: #434B5C;\n",
              "      box-shadow: 0px 1px 3px 1px rgba(0, 0, 0, 0.15);\n",
              "      filter: drop-shadow(0px 1px 2px rgba(0, 0, 0, 0.3));\n",
              "      fill: #FFFFFF;\n",
              "    }\n",
              "  </style>\n",
              "\n",
              "    <script>\n",
              "      const buttonEl =\n",
              "        document.querySelector('#df-a2074e2c-290f-4377-a2c7-4c4be14513b8 button.colab-df-convert');\n",
              "      buttonEl.style.display =\n",
              "        google.colab.kernel.accessAllowed ? 'block' : 'none';\n",
              "\n",
              "      async function convertToInteractive(key) {\n",
              "        const element = document.querySelector('#df-a2074e2c-290f-4377-a2c7-4c4be14513b8');\n",
              "        const dataTable =\n",
              "          await google.colab.kernel.invokeFunction('convertToInteractive',\n",
              "                                                    [key], {});\n",
              "        if (!dataTable) return;\n",
              "\n",
              "        const docLinkHtml = 'Like what you see? Visit the ' +\n",
              "          '<a target=\"_blank\" href=https://colab.research.google.com/notebooks/data_table.ipynb>data table notebook</a>'\n",
              "          + ' to learn more about interactive tables.';\n",
              "        element.innerHTML = '';\n",
              "        dataTable['output_type'] = 'display_data';\n",
              "        await google.colab.output.renderOutput(dataTable, element);\n",
              "        const docLink = document.createElement('div');\n",
              "        docLink.innerHTML = docLinkHtml;\n",
              "        element.appendChild(docLink);\n",
              "      }\n",
              "    </script>\n",
              "  </div>\n",
              "\n",
              "\n",
              "<div id=\"df-0db5f29c-6d54-4ea9-8566-adfb29346fcb\">\n",
              "  <button class=\"colab-df-quickchart\" onclick=\"quickchart('df-0db5f29c-6d54-4ea9-8566-adfb29346fcb')\"\n",
              "            title=\"Suggest charts\"\n",
              "            style=\"display:none;\">\n",
              "\n",
              "<svg xmlns=\"http://www.w3.org/2000/svg\" height=\"24px\"viewBox=\"0 0 24 24\"\n",
              "     width=\"24px\">\n",
              "    <g>\n",
              "        <path d=\"M19 3H5c-1.1 0-2 .9-2 2v14c0 1.1.9 2 2 2h14c1.1 0 2-.9 2-2V5c0-1.1-.9-2-2-2zM9 17H7v-7h2v7zm4 0h-2V7h2v10zm4 0h-2v-4h2v4z\"/>\n",
              "    </g>\n",
              "</svg>\n",
              "  </button>\n",
              "\n",
              "<style>\n",
              "  .colab-df-quickchart {\n",
              "      --bg-color: #E8F0FE;\n",
              "      --fill-color: #1967D2;\n",
              "      --hover-bg-color: #E2EBFA;\n",
              "      --hover-fill-color: #174EA6;\n",
              "      --disabled-fill-color: #AAA;\n",
              "      --disabled-bg-color: #DDD;\n",
              "  }\n",
              "\n",
              "  [theme=dark] .colab-df-quickchart {\n",
              "      --bg-color: #3B4455;\n",
              "      --fill-color: #D2E3FC;\n",
              "      --hover-bg-color: #434B5C;\n",
              "      --hover-fill-color: #FFFFFF;\n",
              "      --disabled-bg-color: #3B4455;\n",
              "      --disabled-fill-color: #666;\n",
              "  }\n",
              "\n",
              "  .colab-df-quickchart {\n",
              "    background-color: var(--bg-color);\n",
              "    border: none;\n",
              "    border-radius: 50%;\n",
              "    cursor: pointer;\n",
              "    display: none;\n",
              "    fill: var(--fill-color);\n",
              "    height: 32px;\n",
              "    padding: 0;\n",
              "    width: 32px;\n",
              "  }\n",
              "\n",
              "  .colab-df-quickchart:hover {\n",
              "    background-color: var(--hover-bg-color);\n",
              "    box-shadow: 0 1px 2px rgba(60, 64, 67, 0.3), 0 1px 3px 1px rgba(60, 64, 67, 0.15);\n",
              "    fill: var(--button-hover-fill-color);\n",
              "  }\n",
              "\n",
              "  .colab-df-quickchart-complete:disabled,\n",
              "  .colab-df-quickchart-complete:disabled:hover {\n",
              "    background-color: var(--disabled-bg-color);\n",
              "    fill: var(--disabled-fill-color);\n",
              "    box-shadow: none;\n",
              "  }\n",
              "\n",
              "  .colab-df-spinner {\n",
              "    border: 2px solid var(--fill-color);\n",
              "    border-color: transparent;\n",
              "    border-bottom-color: var(--fill-color);\n",
              "    animation:\n",
              "      spin 1s steps(1) infinite;\n",
              "  }\n",
              "\n",
              "  @keyframes spin {\n",
              "    0% {\n",
              "      border-color: transparent;\n",
              "      border-bottom-color: var(--fill-color);\n",
              "      border-left-color: var(--fill-color);\n",
              "    }\n",
              "    20% {\n",
              "      border-color: transparent;\n",
              "      border-left-color: var(--fill-color);\n",
              "      border-top-color: var(--fill-color);\n",
              "    }\n",
              "    30% {\n",
              "      border-color: transparent;\n",
              "      border-left-color: var(--fill-color);\n",
              "      border-top-color: var(--fill-color);\n",
              "      border-right-color: var(--fill-color);\n",
              "    }\n",
              "    40% {\n",
              "      border-color: transparent;\n",
              "      border-right-color: var(--fill-color);\n",
              "      border-top-color: var(--fill-color);\n",
              "    }\n",
              "    60% {\n",
              "      border-color: transparent;\n",
              "      border-right-color: var(--fill-color);\n",
              "    }\n",
              "    80% {\n",
              "      border-color: transparent;\n",
              "      border-right-color: var(--fill-color);\n",
              "      border-bottom-color: var(--fill-color);\n",
              "    }\n",
              "    90% {\n",
              "      border-color: transparent;\n",
              "      border-bottom-color: var(--fill-color);\n",
              "    }\n",
              "  }\n",
              "</style>\n",
              "\n",
              "  <script>\n",
              "    async function quickchart(key) {\n",
              "      const quickchartButtonEl =\n",
              "        document.querySelector('#' + key + ' button');\n",
              "      quickchartButtonEl.disabled = true;  // To prevent multiple clicks.\n",
              "      quickchartButtonEl.classList.add('colab-df-spinner');\n",
              "      try {\n",
              "        const charts = await google.colab.kernel.invokeFunction(\n",
              "            'suggestCharts', [key], {});\n",
              "      } catch (error) {\n",
              "        console.error('Error during call to suggestCharts:', error);\n",
              "      }\n",
              "      quickchartButtonEl.classList.remove('colab-df-spinner');\n",
              "      quickchartButtonEl.classList.add('colab-df-quickchart-complete');\n",
              "    }\n",
              "    (() => {\n",
              "      let quickchartButtonEl =\n",
              "        document.querySelector('#df-0db5f29c-6d54-4ea9-8566-adfb29346fcb button');\n",
              "      quickchartButtonEl.style.display =\n",
              "        google.colab.kernel.accessAllowed ? 'block' : 'none';\n",
              "    })();\n",
              "  </script>\n",
              "</div>\n",
              "    </div>\n",
              "  </div>\n"
            ]
          },
          "metadata": {},
          "execution_count": 3
        }
      ],
      "source": [
        "# Review the first 10 rows.\n",
        "\n",
        "### YOUR CODE HERE ###\n",
        "\n",
        "penguins.head(n = 10)"
      ],
      "id": "U8JZjN-zJwx6"
    },
    {
      "cell_type": "markdown",
      "metadata": {
        "id": "tooWlpMBHqoi"
      },
      "source": [
        "<details>\n",
        "  <summary><h4><strong>Hint 1</strong></h4></summary>\n",
        "\n",
        "Use the `head()` method.\n",
        "\n",
        "</details>"
      ],
      "id": "tooWlpMBHqoi"
    },
    {
      "cell_type": "markdown",
      "metadata": {
        "id": "Fg0PhE51Kiz6"
      },
      "source": [
        "<details>\n",
        "  <summary><h4><strong>Hint 2</strong></h4></summary>\n",
        "\n",
        "By default, the method only returns five rows. To change this, specify how many rows `(n = )` you want.\n",
        "\n",
        "</details>"
      ],
      "id": "Fg0PhE51Kiz6"
    },
    {
      "cell_type": "markdown",
      "metadata": {
        "id": "ec269f85-6622-4f82-bdcd-1874224a4052",
        "tags": []
      },
      "source": [
        "## **Step 2: Data exploration**\n",
        "\n",
        "After loading the dataset, the next step is to prepare the data to be suitable for clustering. This includes:\n",
        "\n",
        "*   Exploring data\n",
        "*   Checking for missing values\n",
        "*   Encoding data\n",
        "*   Dropping a column\n",
        "*   Scaling the features using `StandardScaler`"
      ],
      "id": "ec269f85-6622-4f82-bdcd-1874224a4052"
    },
    {
      "cell_type": "markdown",
      "metadata": {
        "id": "d7ccd368"
      },
      "source": [
        "### Explore data\n",
        "\n",
        "To cluster penguins of multiple different species, determine how many different types of penguin species are in the dataset."
      ],
      "id": "d7ccd368"
    },
    {
      "cell_type": "code",
      "execution_count": 4,
      "metadata": {
        "colab": {
          "base_uri": "https://localhost:8080/"
        },
        "id": "8098d8a3",
        "outputId": "d8ca6f1c-e183-480c-db88-0a9c8480849d"
      },
      "outputs": [
        {
          "output_type": "execute_result",
          "data": {
            "text/plain": [
              "array(['Adelie', 'Chinstrap', 'Gentoo'], dtype=object)"
            ]
          },
          "metadata": {},
          "execution_count": 4
        }
      ],
      "source": [
        "# Find out how many penguin types there are.\n",
        "\n",
        "### YOUR CODE HERE ###\n",
        "\n",
        "penguins['species'].unique()"
      ],
      "id": "8098d8a3"
    },
    {
      "cell_type": "markdown",
      "metadata": {
        "id": "9221f9a4"
      },
      "source": [
        "<details>\n",
        "  <summary><h4><strong>Hint 1</strong></h4></summary>\n",
        "\n",
        "Use the `unique()` method.\n",
        "\n",
        "</details>"
      ],
      "id": "9221f9a4"
    },
    {
      "cell_type": "markdown",
      "metadata": {
        "id": "62d8c90f"
      },
      "source": [
        "<details>\n",
        "  <summary><h4><strong>Hint 2</strong></h4></summary>\n",
        "\n",
        "Use the `unique()` method on the column `'species'`.\n",
        "\n",
        "</details>"
      ],
      "id": "62d8c90f"
    },
    {
      "cell_type": "code",
      "execution_count": 5,
      "metadata": {
        "colab": {
          "base_uri": "https://localhost:8080/"
        },
        "id": "1730341a",
        "outputId": "a17f70aa-0c3e-424a-ed75-4d09838ad55e"
      },
      "outputs": [
        {
          "output_type": "execute_result",
          "data": {
            "text/plain": [
              "Adelie       152\n",
              "Gentoo       124\n",
              "Chinstrap     68\n",
              "Name: species, dtype: int64"
            ]
          },
          "metadata": {},
          "execution_count": 5
        }
      ],
      "source": [
        "# Find the count of each species type.\n",
        "\n",
        "### YOUR CODE HERE ###\n",
        "\n",
        "penguins['species'].value_counts(dropna = False)"
      ],
      "id": "1730341a"
    },
    {
      "cell_type": "code",
      "source": [
        "# Plot the distribution of the penguins type\n",
        "plt.figure(figsize=(22, 8))\n",
        "sns.set_theme(style='darkgrid')\n",
        "x = penguins['species'].unique()\n",
        "sns.barplot(x=x, y=penguins['species'].value_counts())\n",
        "plt.title('Distribution of the Penguins types')\n",
        "plt.show();"
      ],
      "metadata": {
        "colab": {
          "base_uri": "https://localhost:8080/",
          "height": 269
        },
        "id": "h7qKyds3K12X",
        "outputId": "49d19243-7bca-4701-d79b-10f9d7c992b6"
      },
      "id": "h7qKyds3K12X",
      "execution_count": 6,
      "outputs": [
        {
          "output_type": "display_data",
          "data": {
            "text/plain": [
              "<Figure size 2200x800 with 1 Axes>"
            ],
            "image/png": "[encoded data removed]"
          },
          "metadata": {}
        }
      ]
    },
    {
      "cell_type": "markdown",
      "metadata": {
        "id": "74fe9495"
      },
      "source": [
        "<details>\n",
        "  <summary><h4><strong>Hint 1</strong></h4></summary>\n",
        "\n",
        "Use the `value_counts()` method.\n",
        "\n",
        "</details>"
      ],
      "id": "74fe9495"
    },
    {
      "cell_type": "markdown",
      "metadata": {
        "id": "a65b62e6"
      },
      "source": [
        "<details>\n",
        "  <summary><h4><strong>Hint 2</strong></h4></summary>\n",
        "\n",
        "Use the `value_counts()` method on the column `'species'`.\n",
        "\n",
        "</details>"
      ],
      "id": "a65b62e6"
    },
    {
      "cell_type": "markdown",
      "metadata": {
        "id": "a2ae00e8"
      },
      "source": [
        "**Question:** How many types of species are present in the dataset?\n",
        "\n",
        "There are three types of species. Note the Chinstrap species is less common than the other species. This has a chance to affect K-means clustering as K-means performs best with similar sized groupings."
      ],
      "id": "a2ae00e8"
    },
    {
      "cell_type": "markdown",
      "metadata": {
        "id": "1f175bc9"
      },
      "source": [
        "**Question:** Why is it helpful to determine the perfect number of clusters using K-means when you already know how many penguin species the dataset contains?\n",
        "\n",
        "For purposes of clustering, pretend you don't know that there are three different types of species. Then, you can explore whether the algorithm can discover the different species. You might even find other relationships in the data."
      ],
      "id": "1f175bc9"
    },
    {
      "cell_type": "markdown",
      "source": [
        "Defining other numbers for k is essential, Because,\n",
        "1. The clusters should be clearly identifiable.\n",
        "2. Within each intercluster, there should be lots of empty space.\n",
        "3. Within each intracluster, the points should be close to each other.\n",
        "\n",
        "For an effective clustering model, the clusters should be clearly identifiable. Within each intracluster, the points are close to each other; within each intercluster, there is lots of empty space."
      ],
      "metadata": {
        "id": "5DaCVlB6QSNP"
      },
      "id": "5DaCVlB6QSNP"
    },
    {
      "cell_type": "markdown",
      "metadata": {
        "id": "4222ca54"
      },
      "source": [
        "### Check for missing values"
      ],
      "id": "4222ca54"
    },
    {
      "cell_type": "markdown",
      "metadata": {
        "id": "TgANHJBVxpbI"
      },
      "source": [
        "An assumption of K-means is that there are no missing values. Check for missing values in the rows of the data."
      ],
      "id": "TgANHJBVxpbI"
    },
    {
      "cell_type": "code",
      "execution_count": 7,
      "metadata": {
        "colab": {
          "base_uri": "https://localhost:8080/"
        },
        "id": "3_SVlY1VpY4h",
        "outputId": "f4a35d80-7691-4e03-ef7d-9cefaa8d73d6"
      },
      "outputs": [
        {
          "output_type": "execute_result",
          "data": {
            "text/plain": [
              "species               0\n",
              "island                0\n",
              "bill_length_mm        2\n",
              "bill_depth_mm         2\n",
              "flipper_length_mm     2\n",
              "body_mass_g           2\n",
              "sex                  11\n",
              "dtype: int64"
            ]
          },
          "metadata": {},
          "execution_count": 7
        }
      ],
      "source": [
        "# Check for missing values.\n",
        "\n",
        "### YOUR CODE HERE ###\n",
        "\n",
        "penguins.isnull().sum()"
      ],
      "id": "3_SVlY1VpY4h"
    },
    {
      "cell_type": "markdown",
      "metadata": {
        "id": "ptn9xlIjJOAL"
      },
      "source": [
        "<details>\n",
        "  <summary><h4><strong>Hint 1</strong></h4></summary>\n",
        "\n",
        "Use the `isnull` and `sum` methods.\n",
        "\n",
        "</details>"
      ],
      "id": "ptn9xlIjJOAL"
    },
    {
      "cell_type": "markdown",
      "metadata": {
        "id": "eb005a73-4621-45b9-8114-30472ce20327"
      },
      "source": [
        "Now, drop the rows with missing values and save the resulting pandas DataFrame in a variable named `penguins_subset`."
      ],
      "id": "eb005a73-4621-45b9-8114-30472ce20327"
    },
    {
      "cell_type": "code",
      "execution_count": 8,
      "metadata": {
        "id": "1cee438e-8b1f-4855-855e-3723d1958b69"
      },
      "outputs": [],
      "source": [
        "# Drop rows with missing values.\n",
        "# Save DataFrame in variable `penguins_subset`.\n",
        "\n",
        "### YOUR CODE HERE ###\n",
        "\n",
        "penguins_subset = penguins.dropna(axis=0).reset_index(drop = True)"
      ],
      "id": "1cee438e-8b1f-4855-855e-3723d1958b69"
    },
    {
      "cell_type": "markdown",
      "metadata": {
        "id": "dec2a35e-ba31-4ec8-b8fc-1c0bdf075d19",
        "tags": []
      },
      "source": [
        "<details>\n",
        "  <summary><h4><strong>Hint 1</strong></h4></summary>\n",
        "\n",
        "Use `dropna`. Note that an axis parameter passed in to this function should be set to 0 if you want to drop rows containing missing values or 1 if you want to drop columns containing missing values. Optionally, `reset_index` may also be used to avoid a SettingWithCopy warning later in the notebook.\n",
        "</details>"
      ],
      "id": "dec2a35e-ba31-4ec8-b8fc-1c0bdf075d19"
    },
    {
      "cell_type": "markdown",
      "metadata": {
        "id": "ymfmX-WvW31z"
      },
      "source": [
        "Next, check to make sure that `penguins_subset` does not contain any missing values."
      ],
      "id": "ymfmX-WvW31z"
    },
    {
      "cell_type": "code",
      "execution_count": 9,
      "metadata": {
        "colab": {
          "base_uri": "https://localhost:8080/"
        },
        "id": "n36d4yztW4BA",
        "outputId": "b439ec89-f672-4349-8da7-c4018d7ee1fc"
      },
      "outputs": [
        {
          "output_type": "execute_result",
          "data": {
            "text/plain": [
              "species              0\n",
              "island               0\n",
              "bill_length_mm       0\n",
              "bill_depth_mm        0\n",
              "flipper_length_mm    0\n",
              "body_mass_g          0\n",
              "sex                  0\n",
              "dtype: int64"
            ]
          },
          "metadata": {},
          "execution_count": 9
        }
      ],
      "source": [
        "# Check for missing values.\n",
        "\n",
        "### YOUR CODE HERE ###\n",
        "\n",
        "penguins_subset.isna().sum()"
      ],
      "id": "n36d4yztW4BA"
    },
    {
      "cell_type": "markdown",
      "metadata": {
        "id": "0021b18e-4c93-4628-8d0d-2c55a98cc691"
      },
      "source": [
        "Now, review the first 10 rows of the subset."
      ],
      "id": "0021b18e-4c93-4628-8d0d-2c55a98cc691"
    },
    {
      "cell_type": "code",
      "execution_count": 10,
      "metadata": {
        "colab": {
          "base_uri": "https://localhost:8080/",
          "height": 383
        },
        "id": "a58b4d77-6023-428d-89aa-4d2ac52003dc",
        "outputId": "07aaae03-73c9-4514-e8ee-8f1a8099da91"
      },
      "outputs": [
        {
          "output_type": "execute_result",
          "data": {
            "text/plain": [
              "  species     island  bill_length_mm  bill_depth_mm  flipper_length_mm  \\\n",
              "0  Adelie  Torgersen            39.1           18.7              181.0   \n",
              "1  Adelie  Torgersen            39.5           17.4              186.0   \n",
              "2  Adelie  Torgersen            40.3           18.0              195.0   \n",
              "3  Adelie  Torgersen            36.7           19.3              193.0   \n",
              "4  Adelie  Torgersen            39.3           20.6              190.0   \n",
              "5  Adelie  Torgersen            38.9           17.8              181.0   \n",
              "6  Adelie  Torgersen            39.2           19.6              195.0   \n",
              "7  Adelie  Torgersen            41.1           17.6              182.0   \n",
              "8  Adelie  Torgersen            38.6           21.2              191.0   \n",
              "9  Adelie  Torgersen            34.6           21.1              198.0   \n",
              "\n",
              "   body_mass_g     sex  \n",
              "0       3750.0    Male  \n",
              "1       3800.0  Female  \n",
              "2       3250.0  Female  \n",
              "3       3450.0  Female  \n",
              "4       3650.0    Male  \n",
              "5       3625.0  Female  \n",
              "6       4675.0    Male  \n",
              "7       3200.0  Female  \n",
              "8       3800.0    Male  \n",
              "9       4400.0    Male  "
            ],
            "text/html": [
              "\n",
              "  <div id=\"df-2ee09e34-8140-4d39-a16a-ff4ff41a7542\" class=\"colab-df-container\">\n",
              "    <div>\n",
              "<style scoped>\n",
              "    .dataframe tbody tr th:only-of-type {\n",
              "        vertical-align: middle;\n",
              "    }\n",
              "\n",
              "    .dataframe tbody tr th {\n",
              "        vertical-align: top;\n",
              "    }\n",
              "\n",
              "    .dataframe thead th {\n",
              "        text-align: right;\n",
              "    }\n",
              "</style>\n",
              "<table border=\"1\" class=\"dataframe\">\n",
              "  <thead>\n",
              "    <tr style=\"text-align: right;\">\n",
              "      <th></th>\n",
              "      <th>species</th>\n",
              "      <th>island</th>\n",
              "      <th>bill_length_mm</th>\n",
              "      <th>bill_depth_mm</th>\n",
              "      <th>flipper_length_mm</th>\n",
              "      <th>body_mass_g</th>\n",
              "      <th>sex</th>\n",
              "    </tr>\n",
              "  </thead>\n",
              "  <tbody>\n",
              "    <tr>\n",
              "      <th>0</th>\n",
              "      <td>Adelie</td>\n",
              "      <td>Torgersen</td>\n",
              "      <td>39.1</td>\n",
              "      <td>18.7</td>\n",
              "      <td>181.0</td>\n",
              "      <td>3750.0</td>\n",
              "      <td>Male</td>\n",
              "    </tr>\n",
              "    <tr>\n",
              "      <th>1</th>\n",
              "      <td>Adelie</td>\n",
              "      <td>Torgersen</td>\n",
              "      <td>39.5</td>\n",
              "      <td>17.4</td>\n",
              "      <td>186.0</td>\n",
              "      <td>3800.0</td>\n",
              "      <td>Female</td>\n",
              "    </tr>\n",
              "    <tr>\n",
              "      <th>2</th>\n",
              "      <td>Adelie</td>\n",
              "      <td>Torgersen</td>\n",
              "      <td>40.3</td>\n",
              "      <td>18.0</td>\n",
              "      <td>195.0</td>\n",
              "      <td>3250.0</td>\n",
              "      <td>Female</td>\n",
              "    </tr>\n",
              "    <tr>\n",
              "      <th>3</th>\n",
              "      <td>Adelie</td>\n",
              "      <td>Torgersen</td>\n",
              "      <td>36.7</td>\n",
              "      <td>19.3</td>\n",
              "      <td>193.0</td>\n",
              "      <td>3450.0</td>\n",
              "      <td>Female</td>\n",
              "    </tr>\n",
              "    <tr>\n",
              "      <th>4</th>\n",
              "      <td>Adelie</td>\n",
              "      <td>Torgersen</td>\n",
              "      <td>39.3</td>\n",
              "      <td>20.6</td>\n",
              "      <td>190.0</td>\n",
              "      <td>3650.0</td>\n",
              "      <td>Male</td>\n",
              "    </tr>\n",
              "    <tr>\n",
              "      <th>5</th>\n",
              "      <td>Adelie</td>\n",
              "      <td>Torgersen</td>\n",
              "      <td>38.9</td>\n",
              "      <td>17.8</td>\n",
              "      <td>181.0</td>\n",
              "      <td>3625.0</td>\n",
              "      <td>Female</td>\n",
              "    </tr>\n",
              "    <tr>\n",
              "      <th>6</th>\n",
              "      <td>Adelie</td>\n",
              "      <td>Torgersen</td>\n",
              "      <td>39.2</td>\n",
              "      <td>19.6</td>\n",
              "      <td>195.0</td>\n",
              "      <td>4675.0</td>\n",
              "      <td>Male</td>\n",
              "    </tr>\n",
              "    <tr>\n",
              "      <th>7</th>\n",
              "      <td>Adelie</td>\n",
              "      <td>Torgersen</td>\n",
              "      <td>41.1</td>\n",
              "      <td>17.6</td>\n",
              "      <td>182.0</td>\n",
              "      <td>3200.0</td>\n",
              "      <td>Female</td>\n",
              "    </tr>\n",
              "    <tr>\n",
              "      <th>8</th>\n",
              "      <td>Adelie</td>\n",
              "      <td>Torgersen</td>\n",
              "      <td>38.6</td>\n",
              "      <td>21.2</td>\n",
              "      <td>191.0</td>\n",
              "      <td>3800.0</td>\n",
              "      <td>Male</td>\n",
              "    </tr>\n",
              "    <tr>\n",
              "      <th>9</th>\n",
              "      <td>Adelie</td>\n",
              "      <td>Torgersen</td>\n",
              "      <td>34.6</td>\n",
              "      <td>21.1</td>\n",
              "      <td>198.0</td>\n",
              "      <td>4400.0</td>\n",
              "      <td>Male</td>\n",
              "    </tr>\n",
              "  </tbody>\n",
              "</table>\n",
              "</div>\n",
              "    <div class=\"colab-df-buttons\">\n",
              "\n",
              "  <div class=\"colab-df-container\">\n",
              "    <button class=\"colab-df-convert\" onclick=\"convertToInteractive('df-2ee09e34-8140-4d39-a16a-ff4ff41a7542')\"\n",
              "            title=\"Convert this dataframe to an interactive table.\"\n",
              "            style=\"display:none;\">\n",
              "\n",
              "  <svg xmlns=\"http://www.w3.org/2000/svg\" height=\"24px\" viewBox=\"0 -960 960 960\">\n",
              "    <path d=\"M120-120v-720h720v720H120Zm60-500h600v-160H180v160Zm220 220h160v-160H400v160Zm0 220h160v-160H400v160ZM180-400h160v-160H180v160Zm440 0h160v-160H620v160ZM180-180h160v-160H180v160Zm440 0h160v-160H620v160Z\"/>\n",
              "  </svg>\n",
              "    </button>\n",
              "\n",
              "  <style>\n",
              "    .colab-df-container {\n",
              "      display:flex;\n",
              "      gap: 12px;\n",
              "    }\n",
              "\n",
              "    .colab-df-convert {\n",
              "      background-color: #E8F0FE;\n",
              "      border: none;\n",
              "      border-radius: 50%;\n",
              "      cursor: pointer;\n",
              "      display: none;\n",
              "      fill: #1967D2;\n",
              "      height: 32px;\n",
              "      padding: 0 0 0 0;\n",
              "      width: 32px;\n",
              "    }\n",
              "\n",
              "    .colab-df-convert:hover {\n",
              "      background-color: #E2EBFA;\n",
              "      box-shadow: 0px 1px 2px rgba(60, 64, 67, 0.3), 0px 1px 3px 1px rgba(60, 64, 67, 0.15);\n",
              "      fill: #174EA6;\n",
              "    }\n",
              "\n",
              "    .colab-df-buttons div {\n",
              "      margin-bottom: 4px;\n",
              "    }\n",
              "\n",
              "    [theme=dark] .colab-df-convert {\n",
              "      background-color: #3B4455;\n",
              "      fill: #D2E3FC;\n",
              "    }\n",
              "\n",
              "    [theme=dark] .colab-df-convert:hover {\n",
              "      background-color: #434B5C;\n",
              "      box-shadow: 0px 1px 3px 1px rgba(0, 0, 0, 0.15);\n",
              "      filter: drop-shadow(0px 1px 2px rgba(0, 0, 0, 0.3));\n",
              "      fill: #FFFFFF;\n",
              "    }\n",
              "  </style>\n",
              "\n",
              "    <script>\n",
              "      const buttonEl =\n",
              "        document.querySelector('#df-2ee09e34-8140-4d39-a16a-ff4ff41a7542 button.colab-df-convert');\n",
              "      buttonEl.style.display =\n",
              "        google.colab.kernel.accessAllowed ? 'block' : 'none';\n",
              "\n",
              "      async function convertToInteractive(key) {\n",
              "        const element = document.querySelector('#df-2ee09e34-8140-4d39-a16a-ff4ff41a7542');\n",
              "        const dataTable =\n",
              "          await google.colab.kernel.invokeFunction('convertToInteractive',\n",
              "                                                    [key], {});\n",
              "        if (!dataTable) return;\n",
              "\n",
              "        const docLinkHtml = 'Like what you see? Visit the ' +\n",
              "          '<a target=\"_blank\" href=https://colab.research.google.com/notebooks/data_table.ipynb>data table notebook</a>'\n",
              "          + ' to learn more about interactive tables.';\n",
              "        element.innerHTML = '';\n",
              "        dataTable['output_type'] = 'display_data';\n",
              "        await google.colab.output.renderOutput(dataTable, element);\n",
              "        const docLink = document.createElement('div');\n",
              "        docLink.innerHTML = docLinkHtml;\n",
              "        element.appendChild(docLink);\n",
              "      }\n",
              "    </script>\n",
              "  </div>\n",
              "\n",
              "\n",
              "<div id=\"df-0b378b20-2e95-4165-b131-929186fe0f18\">\n",
              "  <button class=\"colab-df-quickchart\" onclick=\"quickchart('df-0b378b20-2e95-4165-b131-929186fe0f18')\"\n",
              "            title=\"Suggest charts\"\n",
              "            style=\"display:none;\">\n",
              "\n",
              "<svg xmlns=\"http://www.w3.org/2000/svg\" height=\"24px\"viewBox=\"0 0 24 24\"\n",
              "     width=\"24px\">\n",
              "    <g>\n",
              "        <path d=\"M19 3H5c-1.1 0-2 .9-2 2v14c0 1.1.9 2 2 2h14c1.1 0 2-.9 2-2V5c0-1.1-.9-2-2-2zM9 17H7v-7h2v7zm4 0h-2V7h2v10zm4 0h-2v-4h2v4z\"/>\n",
              "    </g>\n",
              "</svg>\n",
              "  </button>\n",
              "\n",
              "<style>\n",
              "  .colab-df-quickchart {\n",
              "      --bg-color: #E8F0FE;\n",
              "      --fill-color: #1967D2;\n",
              "      --hover-bg-color: #E2EBFA;\n",
              "      --hover-fill-color: #174EA6;\n",
              "      --disabled-fill-color: #AAA;\n",
              "      --disabled-bg-color: #DDD;\n",
              "  }\n",
              "\n",
              "  [theme=dark] .colab-df-quickchart {\n",
              "      --bg-color: #3B4455;\n",
              "      --fill-color: #D2E3FC;\n",
              "      --hover-bg-color: #434B5C;\n",
              "      --hover-fill-color: #FFFFFF;\n",
              "      --disabled-bg-color: #3B4455;\n",
              "      --disabled-fill-color: #666;\n",
              "  }\n",
              "\n",
              "  .colab-df-quickchart {\n",
              "    background-color: var(--bg-color);\n",
              "    border: none;\n",
              "    border-radius: 50%;\n",
              "    cursor: pointer;\n",
              "    display: none;\n",
              "    fill: var(--fill-color);\n",
              "    height: 32px;\n",
              "    padding: 0;\n",
              "    width: 32px;\n",
              "  }\n",
              "\n",
              "  .colab-df-quickchart:hover {\n",
              "    background-color: var(--hover-bg-color);\n",
              "    box-shadow: 0 1px 2px rgba(60, 64, 67, 0.3), 0 1px 3px 1px rgba(60, 64, 67, 0.15);\n",
              "    fill: var(--button-hover-fill-color);\n",
              "  }\n",
              "\n",
              "  .colab-df-quickchart-complete:disabled,\n",
              "  .colab-df-quickchart-complete:disabled:hover {\n",
              "    background-color: var(--disabled-bg-color);\n",
              "    fill: var(--disabled-fill-color);\n",
              "    box-shadow: none;\n",
              "  }\n",
              "\n",
              "  .colab-df-spinner {\n",
              "    border: 2px solid var(--fill-color);\n",
              "    border-color: transparent;\n",
              "    border-bottom-color: var(--fill-color);\n",
              "    animation:\n",
              "      spin 1s steps(1) infinite;\n",
              "  }\n",
              "\n",
              "  @keyframes spin {\n",
              "    0% {\n",
              "      border-color: transparent;\n",
              "      border-bottom-color: var(--fill-color);\n",
              "      border-left-color: var(--fill-color);\n",
              "    }\n",
              "    20% {\n",
              "      border-color: transparent;\n",
              "      border-left-color: var(--fill-color);\n",
              "      border-top-color: var(--fill-color);\n",
              "    }\n",
              "    30% {\n",
              "      border-color: transparent;\n",
              "      border-left-color: var(--fill-color);\n",
              "      border-top-color: var(--fill-color);\n",
              "      border-right-color: var(--fill-color);\n",
              "    }\n",
              "    40% {\n",
              "      border-color: transparent;\n",
              "      border-right-color: var(--fill-color);\n",
              "      border-top-color: var(--fill-color);\n",
              "    }\n",
              "    60% {\n",
              "      border-color: transparent;\n",
              "      border-right-color: var(--fill-color);\n",
              "    }\n",
              "    80% {\n",
              "      border-color: transparent;\n",
              "      border-right-color: var(--fill-color);\n",
              "      border-bottom-color: var(--fill-color);\n",
              "    }\n",
              "    90% {\n",
              "      border-color: transparent;\n",
              "      border-bottom-color: var(--fill-color);\n",
              "    }\n",
              "  }\n",
              "</style>\n",
              "\n",
              "  <script>\n",
              "    async function quickchart(key) {\n",
              "      const quickchartButtonEl =\n",
              "        document.querySelector('#' + key + ' button');\n",
              "      quickchartButtonEl.disabled = true;  // To prevent multiple clicks.\n",
              "      quickchartButtonEl.classList.add('colab-df-spinner');\n",
              "      try {\n",
              "        const charts = await google.colab.kernel.invokeFunction(\n",
              "            'suggestCharts', [key], {});\n",
              "      } catch (error) {\n",
              "        console.error('Error during call to suggestCharts:', error);\n",
              "      }\n",
              "      quickchartButtonEl.classList.remove('colab-df-spinner');\n",
              "      quickchartButtonEl.classList.add('colab-df-quickchart-complete');\n",
              "    }\n",
              "    (() => {\n",
              "      let quickchartButtonEl =\n",
              "        document.querySelector('#df-0b378b20-2e95-4165-b131-929186fe0f18 button');\n",
              "      quickchartButtonEl.style.display =\n",
              "        google.colab.kernel.accessAllowed ? 'block' : 'none';\n",
              "    })();\n",
              "  </script>\n",
              "</div>\n",
              "    </div>\n",
              "  </div>\n"
            ]
          },
          "metadata": {},
          "execution_count": 10
        }
      ],
      "source": [
        "# View first 10 rows.\n",
        "\n",
        "### YOUR CODE HERE ###\n",
        "\n",
        "penguins_subset.head(10)"
      ],
      "id": "a58b4d77-6023-428d-89aa-4d2ac52003dc"
    },
    {
      "cell_type": "markdown",
      "metadata": {
        "id": "d491a508"
      },
      "source": [
        "### Encode data\n",
        "\n",
        "Some versions of the penguins dataset have values encoded in the sex column as 'Male' and 'Female' instead of 'MALE' and 'FEMALE'. The code below will make sure all values are ALL CAPS.\n"
      ],
      "id": "d491a508"
    },
    {
      "cell_type": "code",
      "execution_count": 11,
      "metadata": {
        "id": "ofs1fqq9HQ-2"
      },
      "outputs": [],
      "source": [
        "penguins_subset['sex'] = penguins_subset['sex'].str.upper()"
      ],
      "id": "ofs1fqq9HQ-2"
    },
    {
      "cell_type": "markdown",
      "metadata": {
        "id": "EO5fqIwUHOmi"
      },
      "source": [
        "K-means needs numeric columns for clustering. Convert the categorical column `'sex'` into numeric. There is no need to convert the `'species'` column because it isn't being used as a feature in the clustering algorithm."
      ],
      "id": "EO5fqIwUHOmi"
    },
    {
      "cell_type": "code",
      "execution_count": 12,
      "metadata": {
        "id": "U833roOu1Qf9"
      },
      "outputs": [],
      "source": [
        "# Convert `sex` column from categorical to numeric.\n",
        "\n",
        "### YOUR CODE HERE ###\n",
        "\n",
        "penguins_subset = pd.get_dummies(penguins_subset, drop_first = True,\n",
        "                                 columns=['sex'])"
      ],
      "id": "U833roOu1Qf9"
    },
    {
      "cell_type": "markdown",
      "metadata": {
        "id": "d10c6d43"
      },
      "source": [
        "<details>\n",
        "  <summary><h4><strong>Hint 1</strong></h4></summary>\n",
        "\n",
        "Use the `get_dummies` function.\n",
        "\n",
        "</details>"
      ],
      "id": "d10c6d43"
    },
    {
      "cell_type": "markdown",
      "metadata": {
        "id": "4ef2e46a"
      },
      "source": [
        "<details>\n",
        "  <summary><h4><strong>Hint 2</strong></h4></summary>\n",
        "\n",
        "The `drop_first` parameter should be set to `True`. This removes redundant data. The `columns` parameter can **optionally** be set to `['sex']` to specify that only the `'sex'` column gets this operation performed on it.\n",
        "\n",
        "</details>"
      ],
      "id": "4ef2e46a"
    },
    {
      "cell_type": "markdown",
      "metadata": {
        "id": "725cc2b0"
      },
      "source": [
        "### Drop a column\n",
        "\n",
        "Drop the categorical column `island` from the dataset. While it has value, this notebook is trying to confirm if penguins of the same species exhibit different physical characteristics based on sex. This doesn't include location.\n",
        "\n",
        "Note that the `'species'` column is not numeric. Don't drop the `'species'` column for now. It could potentially be used to help understand the clusters later."
      ],
      "id": "725cc2b0"
    },
    {
      "cell_type": "code",
      "execution_count": 13,
      "metadata": {
        "id": "841986cc"
      },
      "outputs": [],
      "source": [
        "# Drop the island column.\n",
        "\n",
        "### YOUR CODE HERE ###\n",
        "\n",
        "penguins_subset = penguins_subset.drop(['island'], axis=1)"
      ],
      "id": "841986cc"
    },
    {
      "cell_type": "markdown",
      "metadata": {
        "id": "Gqs356GLi-OX"
      },
      "source": [
        "### Scale the features\n",
        "\n",
        "Because K-means uses distance between observations as its measure of similarity, it's important to scale the data before modeling. Use a third-party tool, such as scikit-learn's `StandardScaler` function. `StandardScaler` scales each point xᵢ by subtracting the mean observed value for that feature and dividing by the standard deviation:\n",
        "\n",
        "x-scaled = (xᵢ – mean(X)) / σ\n",
        "\n",
        "This ensures that all variables have a mean of 0 and variance/standard deviation of 1.\n",
        "\n",
        "**Note:** Because the species column isn't a feature, it doesn't need to be scaled.\n",
        "\n",
        "First, copy all the features except the `'species'` column to a DataFrame `X`."
      ],
      "id": "Gqs356GLi-OX"
    },
    {
      "cell_type": "code",
      "execution_count": 14,
      "metadata": {
        "id": "37a93839",
        "scrolled": true
      },
      "outputs": [],
      "source": [
        "# Exclude `species` variable from X\n",
        "\n",
        "### YOUR CODE HERE ###\n",
        "\n",
        "X = penguins_subset.drop(['species'], axis=1)"
      ],
      "id": "37a93839"
    },
    {
      "cell_type": "markdown",
      "metadata": {
        "id": "bc057c97"
      },
      "source": [
        "<details>\n",
        "  <summary><h4><strong>Hint 1</strong></h4></summary>\n",
        "\n",
        "Use`drop()`.\n",
        "</details>"
      ],
      "id": "bc057c97"
    },
    {
      "cell_type": "markdown",
      "metadata": {
        "id": "059194c4"
      },
      "source": [
        "<details>\n",
        "  <summary><h4><strong>Hint 2</strong></h4></summary>\n",
        "\n",
        "Select all columns except `'species'.`The `axis` parameter passed in to this method should be set to `1` if you want to drop columns.\n",
        "</details>"
      ],
      "id": "059194c4"
    },
    {
      "cell_type": "markdown",
      "metadata": {
        "id": "da3acdc9"
      },
      "source": [
        "Scale the features in `X` using `StandardScaler`, and assign the scaled data to a new variable `X_scaled`."
      ],
      "id": "da3acdc9"
    },
    {
      "cell_type": "code",
      "execution_count": 15,
      "metadata": {
        "id": "gJRWMdtgkT4g"
      },
      "outputs": [],
      "source": [
        "#Scale the features.\n",
        "#Assign the scaled data to variable `X_scaled`.\n",
        "\n",
        "### YOUR CODE HERE ###\n",
        "\n",
        "X_scaled = StandardScaler().fit_transform(X)"
      ],
      "id": "gJRWMdtgkT4g"
    },
    {
      "cell_type": "markdown",
      "metadata": {
        "id": "08a688d3"
      },
      "source": [
        "<details>\n",
        "  <summary><h4><strong>Hint 1</strong></h4></summary>\n",
        "\n",
        "Instantiate StandardScaler to transform the data in a single step.\n",
        "</details>"
      ],
      "id": "08a688d3"
    },
    {
      "cell_type": "markdown",
      "metadata": {
        "id": "05445583"
      },
      "source": [
        "<details>\n",
        "  <summary><h4><strong>Hint 2</strong></h4></summary>\n",
        "\n",
        "Use the `.fit_transform()` method and pass in the data as an argument.\n",
        "</details>"
      ],
      "id": "05445583"
    },
    {
      "cell_type": "markdown",
      "metadata": {
        "id": "beKyGofii-tO"
      },
      "source": [
        "## **Step 3: Data modeling**"
      ],
      "id": "beKyGofii-tO"
    },
    {
      "cell_type": "markdown",
      "metadata": {
        "id": "15120a7e"
      },
      "source": [
        "Now, fit K-means and evaluate inertia for different values of k. Because you may not know how many clusters exist in the data, start by fitting K-means and examining the inertia values for different values of k. To do this, write a function called `kmeans_inertia` that takes in `num_clusters` and `x_vals` (`X_scaled`) and returns a list of each k-value's inertia.\n",
        "\n",
        "When using K-means inside the function, set the `random_state` to `42`. This way, others can reproduce your results."
      ],
      "id": "15120a7e"
    },
    {
      "cell_type": "code",
      "execution_count": 16,
      "metadata": {
        "id": "k0cr1tmBI0s-"
      },
      "outputs": [],
      "source": [
        "# Fit K-means and evaluate inertia for different values of k.\n",
        "\n",
        "### YOUR CODE HERE ###\n",
        "\n",
        "num_clusters = [i for i in range(2, 11)]\n",
        "\n",
        "def kmeans_inertia(num_clusters, x_vals):\n",
        "    \"\"\"\n",
        "    Accepts as arguments list of ints and data array.\n",
        "    Fits a KMeans model where k = each value in the list of ints.\n",
        "    Returns each k-value's inertia appended to a list.\n",
        "    \"\"\"\n",
        "    inertia = []\n",
        "    for num in num_clusters:\n",
        "        kms = KMeans(n_clusters=num, random_state=42)\n",
        "        kms.fit(x_vals)\n",
        "        inertia.append(kms.inertia_)\n",
        "\n",
        "    return inertia"
      ],
      "id": "k0cr1tmBI0s-"
    },
    {
      "cell_type": "markdown",
      "metadata": {
        "id": "21c96ecc"
      },
      "source": [
        "Use the `kmeans_inertia` function to return a list of inertia for k=2 to 10."
      ],
      "id": "21c96ecc"
    },
    {
      "cell_type": "code",
      "execution_count": 17,
      "metadata": {
        "colab": {
          "base_uri": "https://localhost:8080/"
        },
        "id": "p7dWwBQih0dd",
        "outputId": "ce135e9b-2c5a-41f5-9909-e199d623c27e"
      },
      "outputs": [
        {
          "output_type": "stream",
          "name": "stderr",
          "text": [
            "/usr/local/lib/python3.10/dist-packages/sklearn/cluster/_kmeans.py:870: FutureWarning: The default value of `n_init` will change from 10 to 'auto' in 1.4. Set the value of `n_init` explicitly to suppress the warning\n",
            "  warnings.warn(\n",
            "/usr/local/lib/python3.10/dist-packages/sklearn/cluster/_kmeans.py:870: FutureWarning: The default value of `n_init` will change from 10 to 'auto' in 1.4. Set the value of `n_init` explicitly to suppress the warning\n",
            "  warnings.warn(\n",
            "/usr/local/lib/python3.10/dist-packages/sklearn/cluster/_kmeans.py:870: FutureWarning: The default value of `n_init` will change from 10 to 'auto' in 1.4. Set the value of `n_init` explicitly to suppress the warning\n",
            "  warnings.warn(\n",
            "/usr/local/lib/python3.10/dist-packages/sklearn/cluster/_kmeans.py:870: FutureWarning: The default value of `n_init` will change from 10 to 'auto' in 1.4. Set the value of `n_init` explicitly to suppress the warning\n",
            "  warnings.warn(\n",
            "/usr/local/lib/python3.10/dist-packages/sklearn/cluster/_kmeans.py:870: FutureWarning: The default value of `n_init` will change from 10 to 'auto' in 1.4. Set the value of `n_init` explicitly to suppress the warning\n",
            "  warnings.warn(\n",
            "/usr/local/lib/python3.10/dist-packages/sklearn/cluster/_kmeans.py:870: FutureWarning: The default value of `n_init` will change from 10 to 'auto' in 1.4. Set the value of `n_init` explicitly to suppress the warning\n",
            "  warnings.warn(\n",
            "/usr/local/lib/python3.10/dist-packages/sklearn/cluster/_kmeans.py:870: FutureWarning: The default value of `n_init` will change from 10 to 'auto' in 1.4. Set the value of `n_init` explicitly to suppress the warning\n",
            "  warnings.warn(\n",
            "/usr/local/lib/python3.10/dist-packages/sklearn/cluster/_kmeans.py:870: FutureWarning: The default value of `n_init` will change from 10 to 'auto' in 1.4. Set the value of `n_init` explicitly to suppress the warning\n",
            "  warnings.warn(\n",
            "/usr/local/lib/python3.10/dist-packages/sklearn/cluster/_kmeans.py:870: FutureWarning: The default value of `n_init` will change from 10 to 'auto' in 1.4. Set the value of `n_init` explicitly to suppress the warning\n",
            "  warnings.warn(\n"
          ]
        },
        {
          "output_type": "execute_result",
          "data": {
            "text/plain": [
              "[885.622414365225,\n",
              " 578.8284278107235,\n",
              " 386.14534424773285,\n",
              " 284.5464837898288,\n",
              " 217.92858573807686,\n",
              " 201.39287843423276,\n",
              " 185.4613104323231,\n",
              " 173.45452114979855,\n",
              " 164.12001520260708]"
            ]
          },
          "metadata": {},
          "execution_count": 17
        }
      ],
      "source": [
        "# Return a list of inertia for k=2 to 10.\n",
        "\n",
        "### YOUR CODE HERE ###\n",
        "\n",
        "inertia = kmeans_inertia(num_clusters, X_scaled)\n",
        "inertia"
      ],
      "id": "p7dWwBQih0dd"
    },
    {
      "cell_type": "markdown",
      "metadata": {
        "id": "7e574f05"
      },
      "source": [
        "<details>\n",
        "  <summary><h4><strong>Hint 1</strong></h4></summary>\n",
        "\n",
        "Review the material about the `kmeans_inertia` function.\n",
        "</details>"
      ],
      "id": "7e574f05"
    },
    {
      "cell_type": "markdown",
      "metadata": {
        "id": "fa331d9a"
      },
      "source": [
        "Next, create a line plot that shows the relationship between `num_clusters` and `inertia`.\n",
        "Use either seaborn or matplotlib to visualize this relationship."
      ],
      "id": "fa331d9a"
    },
    {
      "cell_type": "code",
      "execution_count": 18,
      "metadata": {
        "colab": {
          "base_uri": "https://localhost:8080/",
          "height": 278
        },
        "id": "46yOZCg4h9a4",
        "outputId": "783b2ec2-4ed3-498b-8c97-b4e8a70bedfd"
      },
      "outputs": [
        {
          "output_type": "display_data",
          "data": {
            "text/plain": [
              "<Figure size 2200x800 with 1 Axes>"
            ],
            "image/png": "[encoded data removed]"
          },
          "metadata": {}
        }
      ],
      "source": [
        "# Create a line plot.\n",
        "\n",
        "### YOUR CODE HERE ###\n",
        "plt.figure(figsize=(22, 8))\n",
        "plot = sns.lineplot(x=num_clusters, y=inertia)\n",
        "plot.set_xlabel(\"Number of clusters\");\n",
        "plot.set_ylabel(\"Inertia\");\n",
        "plot.set_title('Distribution showing Elbow of Plot');"
      ],
      "id": "46yOZCg4h9a4"
    },
    {
      "cell_type": "markdown",
      "metadata": {
        "id": "011ff9cf"
      },
      "source": [
        "<details>\n",
        "  <summary><h4><strong>Hint 1</strong></h4></summary>\n",
        "\n",
        "Use `sns.lineplot`.\n",
        "</details>"
      ],
      "id": "011ff9cf"
    },
    {
      "cell_type": "markdown",
      "metadata": {
        "id": "19bfddca"
      },
      "source": [
        "<details>\n",
        "  <summary><h4><strong>Hint 2</strong></h4></summary>\n",
        "\n",
        "Include `x=num_clusters` and `y=inertia`.\n",
        "</details>"
      ],
      "id": "19bfddca"
    },
    {
      "cell_type": "markdown",
      "metadata": {
        "id": "g-nPzhMPi_oQ"
      },
      "source": [
        "**Question:** Where is the elbow in the plot?\n",
        "\n",
        "The plot seems to depict an elbow at six clusters, but there isn't a clear method for confirming that a six-cluster model is optimal. Therefore, the silhouette scores should be checked."
      ],
      "id": "g-nPzhMPi_oQ"
    },
    {
      "cell_type": "markdown",
      "metadata": {
        "id": "fc33c6a3-8610-4b70-b0e9-9b99c345c0ac"
      },
      "source": [
        "## **Step 4: Results and evaluation**"
      ],
      "id": "fc33c6a3-8610-4b70-b0e9-9b99c345c0ac"
    },
    {
      "cell_type": "markdown",
      "metadata": {
        "id": "L0Jmyi8Hi__T"
      },
      "source": [
        "Now, evaluate the silhouette score using the `silhouette_score()` function. Silhouette scores are used to study the distance between clusters."
      ],
      "id": "L0Jmyi8Hi__T"
    },
    {
      "cell_type": "markdown",
      "metadata": {
        "id": "64e51814"
      },
      "source": [
        "Then, compare the silhouette score of each value of k, from 2 through 10. To do this, write a function called `kmeans_sil` that takes in `num_clusters` and `x_vals` (`X_scaled`) and returns a list of each k-value's silhouette score."
      ],
      "id": "64e51814"
    },
    {
      "cell_type": "code",
      "execution_count": 19,
      "metadata": {
        "colab": {
          "base_uri": "https://localhost:8080/"
        },
        "id": "9LRbafs7I0tF",
        "outputId": "4b0e7ab0-7c97-4d99-c608-524ffcad17e9"
      },
      "outputs": [
        {
          "output_type": "stream",
          "name": "stderr",
          "text": [
            "/usr/local/lib/python3.10/dist-packages/sklearn/cluster/_kmeans.py:870: FutureWarning: The default value of `n_init` will change from 10 to 'auto' in 1.4. Set the value of `n_init` explicitly to suppress the warning\n",
            "  warnings.warn(\n",
            "/usr/local/lib/python3.10/dist-packages/sklearn/cluster/_kmeans.py:870: FutureWarning: The default value of `n_init` will change from 10 to 'auto' in 1.4. Set the value of `n_init` explicitly to suppress the warning\n",
            "  warnings.warn(\n",
            "/usr/local/lib/python3.10/dist-packages/sklearn/cluster/_kmeans.py:870: FutureWarning: The default value of `n_init` will change from 10 to 'auto' in 1.4. Set the value of `n_init` explicitly to suppress the warning\n",
            "  warnings.warn(\n",
            "/usr/local/lib/python3.10/dist-packages/sklearn/cluster/_kmeans.py:870: FutureWarning: The default value of `n_init` will change from 10 to 'auto' in 1.4. Set the value of `n_init` explicitly to suppress the warning\n",
            "  warnings.warn(\n",
            "/usr/local/lib/python3.10/dist-packages/sklearn/cluster/_kmeans.py:870: FutureWarning: The default value of `n_init` will change from 10 to 'auto' in 1.4. Set the value of `n_init` explicitly to suppress the warning\n",
            "  warnings.warn(\n",
            "/usr/local/lib/python3.10/dist-packages/sklearn/cluster/_kmeans.py:870: FutureWarning: The default value of `n_init` will change from 10 to 'auto' in 1.4. Set the value of `n_init` explicitly to suppress the warning\n",
            "  warnings.warn(\n",
            "/usr/local/lib/python3.10/dist-packages/sklearn/cluster/_kmeans.py:870: FutureWarning: The default value of `n_init` will change from 10 to 'auto' in 1.4. Set the value of `n_init` explicitly to suppress the warning\n",
            "  warnings.warn(\n",
            "/usr/local/lib/python3.10/dist-packages/sklearn/cluster/_kmeans.py:870: FutureWarning: The default value of `n_init` will change from 10 to 'auto' in 1.4. Set the value of `n_init` explicitly to suppress the warning\n",
            "  warnings.warn(\n",
            "/usr/local/lib/python3.10/dist-packages/sklearn/cluster/_kmeans.py:870: FutureWarning: The default value of `n_init` will change from 10 to 'auto' in 1.4. Set the value of `n_init` explicitly to suppress the warning\n",
            "  warnings.warn(\n"
          ]
        },
        {
          "output_type": "execute_result",
          "data": {
            "text/plain": [
              "[0.44398088353055243,\n",
              " 0.45101024097188364,\n",
              " 0.5080140996630784,\n",
              " 0.519998574860868,\n",
              " 0.5263224884981607,\n",
              " 0.47774022332151733,\n",
              " 0.4221920732643224,\n",
              " 0.36062890821417276,\n",
              " 0.3617250563420018]"
            ]
          },
          "metadata": {},
          "execution_count": 19
        }
      ],
      "source": [
        "# Evaluate silhouette score.\n",
        "# Write a function to return a list of each k-value's score.\n",
        "\n",
        "### YOUR CODE HERE ###\n",
        "\n",
        "def kmeans_sil(num_clusters, x_vals):\n",
        "    \"\"\"\n",
        "    Accepts as arguments list of ints and data array.\n",
        "    Fits a KMeans model where k = each value in the list of ints.\n",
        "    Calculates a silhouette score for each k value.\n",
        "    Returns each k-value's silhouette score appended to a list.\n",
        "    \"\"\"\n",
        "    sil_score = []\n",
        "    for num in num_clusters:\n",
        "        kms = KMeans(n_clusters=num, random_state=42)\n",
        "        kms.fit(x_vals)\n",
        "        sil_score.append(silhouette_score(x_vals, kms.labels_))\n",
        "\n",
        "    return sil_score\n",
        "\n",
        "\n",
        "sil_score = kmeans_sil(num_clusters, X_scaled)\n",
        "sil_score"
      ],
      "id": "9LRbafs7I0tF"
    },
    {
      "cell_type": "markdown",
      "metadata": {
        "id": "ed27ba6f"
      },
      "source": [
        "<details>\n",
        "  <summary><h4><strong>Hint 1</strong></h4></summary>\n",
        "\n",
        "Review the `kmeans_sil` function video.\n",
        "</details>"
      ],
      "id": "ed27ba6f"
    },
    {
      "cell_type": "markdown",
      "metadata": {
        "id": "e3d3c989"
      },
      "source": [
        "Next, create a line plot that shows the relationship between `num_clusters` and `sil_score`.\n",
        "Use either seaborn or matplotlib to visualize this relationship."
      ],
      "id": "e3d3c989"
    },
    {
      "cell_type": "code",
      "execution_count": 20,
      "metadata": {
        "colab": {
          "base_uri": "https://localhost:8080/",
          "height": 267
        },
        "id": "IyhBJ8qXpbxz",
        "outputId": "9eb2cf69-ee51-48e4-d914-a75014eecd57"
      },
      "outputs": [
        {
          "output_type": "display_data",
          "data": {
            "text/plain": [
              "<Figure size 2200x800 with 1 Axes>"
            ],
            "image/png": "[encoded data removed]"
          },
          "metadata": {}
        }
      ],
      "source": [
        "# Create a line plot.\n",
        "\n",
        "### YOUR CODE HERE ###\n",
        "plt.figure(figsize=(22, 8))\n",
        "plot = sns.lineplot(x=num_clusters, y=sil_score)\n",
        "plot.set_xlabel(\"# of clusters\");\n",
        "plot.set_ylabel(\"Silhouette Score\");"
      ],
      "id": "IyhBJ8qXpbxz"
    },
    {
      "cell_type": "markdown",
      "metadata": {
        "id": "045d2a44"
      },
      "source": [
        "<details>\n",
        "  <summary><h4><strong>Hint 1</strong></h4></summary>\n",
        "\n",
        "Use `sns.lineplot`.\n",
        "</details>"
      ],
      "id": "045d2a44"
    },
    {
      "cell_type": "markdown",
      "metadata": {
        "id": "9e48cb4c"
      },
      "source": [
        "<details>\n",
        "  <summary><h4><strong>Hint 2</strong></h4></summary>\n",
        "\n",
        "Include `x=num_clusters` and `y=sil_score`.\n",
        "</details>"
      ],
      "id": "9e48cb4c"
    },
    {
      "cell_type": "markdown",
      "metadata": {
        "id": "5262b500"
      },
      "source": [
        "**Question:** What does the graph show?\n",
        "\n",
        "Silhouette scores near 1 indicate that samples are far away from neighboring clusters. Scores close to 0 indicate that samples are on or very close to the decision boundary between two neighboring clusters.\n",
        "\n",
        "The plot indicates that the silhouette score is closest to 1 when the data is partitioned into six clusters, although five clusters also yield a relatively good silhouette score."
      ],
      "id": "5262b500"
    },
    {
      "cell_type": "markdown",
      "metadata": {
        "id": "otSauwzpMXnP"
      },
      "source": [
        "### Optimal k-value"
      ],
      "id": "otSauwzpMXnP"
    },
    {
      "cell_type": "markdown",
      "metadata": {
        "id": "7vQnmULGE69B"
      },
      "source": [
        "To decide on an optimal k-value, fit a six-cluster model to the dataset."
      ],
      "id": "7vQnmULGE69B"
    },
    {
      "cell_type": "code",
      "execution_count": 21,
      "metadata": {
        "colab": {
          "base_uri": "https://localhost:8080/",
          "height": 129
        },
        "id": "tZhr41e6MXxo",
        "outputId": "ebe5fe5c-4133-4d4a-b4ff-13f5c3d0ce71"
      },
      "outputs": [
        {
          "output_type": "stream",
          "name": "stderr",
          "text": [
            "/usr/local/lib/python3.10/dist-packages/sklearn/cluster/_kmeans.py:870: FutureWarning: The default value of `n_init` will change from 10 to 'auto' in 1.4. Set the value of `n_init` explicitly to suppress the warning\n",
            "  warnings.warn(\n"
          ]
        },
        {
          "output_type": "execute_result",
          "data": {
            "text/plain": [
              "KMeans(n_clusters=6, random_state=42)"
            ],
            "text/html": [
              "<style>#sk-container-id-1 {color: black;background-color: white;}#sk-container-id-1 pre{padding: 0;}#sk-container-id-1 div.sk-toggleable {background-color: white;}#sk-container-id-1 label.sk-toggleable__label {cursor: pointer;display: block;width: 100%;margin-bottom: 0;padding: 0.3em;box-sizing: border-box;text-align: center;}#sk-container-id-1 label.sk-toggleable__label-arrow:before {content: \"▸\";float: left;margin-right: 0.25em;color: #696969;}#sk-container-id-1 label.sk-toggleable__label-arrow:hover:before {color: black;}#sk-container-id-1 div.sk-estimator:hover label.sk-toggleable__label-arrow:before {color: black;}#sk-container-id-1 div.sk-toggleable__content {max-height: 0;max-width: 0;overflow: hidden;text-align: left;background-color: #f0f8ff;}#sk-container-id-1 div.sk-toggleable__content pre {margin: 0.2em;color: black;border-radius: 0.25em;background-color: #f0f8ff;}#sk-container-id-1 input.sk-toggleable__control:checked~div.sk-toggleable__content {max-height: 200px;max-width: 100%;overflow: auto;}#sk-container-id-1 input.sk-toggleable__control:checked~label.sk-toggleable__label-arrow:before {content: \"▾\";}#sk-container-id-1 div.sk-estimator input.sk-toggleable__control:checked~label.sk-toggleable__label {background-color: #d4ebff;}#sk-container-id-1 div.sk-label input.sk-toggleable__control:checked~label.sk-toggleable__label {background-color: #d4ebff;}#sk-container-id-1 input.sk-hidden--visually {border: 0;clip: rect(1px 1px 1px 1px);clip: rect(1px, 1px, 1px, 1px);height: 1px;margin: -1px;overflow: hidden;padding: 0;position: absolute;width: 1px;}#sk-container-id-1 div.sk-estimator {font-family: monospace;background-color: #f0f8ff;border: 1px dotted black;border-radius: 0.25em;box-sizing: border-box;margin-bottom: 0.5em;}#sk-container-id-1 div.sk-estimator:hover {background-color: #d4ebff;}#sk-container-id-1 div.sk-parallel-item::after {content: \"\";width: 100%;border-bottom: 1px solid gray;flex-grow: 1;}#sk-container-id-1 div.sk-label:hover label.sk-toggleable__label {background-color: #d4ebff;}#sk-container-id-1 div.sk-serial::before {content: \"\";position: absolute;border-left: 1px solid gray;box-sizing: border-box;top: 0;bottom: 0;left: 50%;z-index: 0;}#sk-container-id-1 div.sk-serial {display: flex;flex-direction: column;align-items: center;background-color: white;padding-right: 0.2em;padding-left: 0.2em;position: relative;}#sk-container-id-1 div.sk-item {position: relative;z-index: 1;}#sk-container-id-1 div.sk-parallel {display: flex;align-items: stretch;justify-content: center;background-color: white;position: relative;}#sk-container-id-1 div.sk-item::before, #sk-container-id-1 div.sk-parallel-item::before {content: \"\";position: absolute;border-left: 1px solid gray;box-sizing: border-box;top: 0;bottom: 0;left: 50%;z-index: -1;}#sk-container-id-1 div.sk-parallel-item {display: flex;flex-direction: column;z-index: 1;position: relative;background-color: white;}#sk-container-id-1 div.sk-parallel-item:first-child::after {align-self: flex-end;width: 50%;}#sk-container-id-1 div.sk-parallel-item:last-child::after {align-self: flex-start;width: 50%;}#sk-container-id-1 div.sk-parallel-item:only-child::after {width: 0;}#sk-container-id-1 div.sk-dashed-wrapped {border: 1px dashed gray;margin: 0 0.4em 0.5em 0.4em;box-sizing: border-box;padding-bottom: 0.4em;background-color: white;}#sk-container-id-1 div.sk-label label {font-family: monospace;font-weight: bold;display: inline-block;line-height: 1.2em;}#sk-container-id-1 div.sk-label-container {text-align: center;}#sk-container-id-1 div.sk-container {/* jupyter's `normalize.less` sets `[hidden] { display: none; }` but bootstrap.min.css set `[hidden] { display: none !important; }` so we also need the `!important` here to be able to override the default hidden behavior on the sphinx rendered scikit-learn.org. See: https://github.com/scikit-learn/scikit-learn/issues/21755 */display: inline-block !important;position: relative;}#sk-container-id-1 div.sk-text-repr-fallback {display: none;}</style><div id=\"sk-container-id-1\" class=\"sk-top-container\"><div class=\"sk-text-repr-fallback\"><pre>KMeans(n_clusters=6, random_state=42)</pre><b>In a Jupyter environment, please rerun this cell to show the HTML representation or trust the notebook. <br />On GitHub, the HTML representation is unable to render, please try loading this page with nbviewer.org.</b></div><div class=\"sk-container\" hidden><div class=\"sk-item\"><div class=\"sk-estimator sk-toggleable\"><input class=\"sk-toggleable__control sk-hidden--visually\" id=\"sk-estimator-id-1\" type=\"checkbox\" checked><label for=\"sk-estimator-id-1\" class=\"sk-toggleable__label sk-toggleable__label-arrow\">KMeans</label><div class=\"sk-toggleable__content\"><pre>KMeans(n_clusters=6, random_state=42)</pre></div></div></div></div></div>"
            ]
          },
          "metadata": {},
          "execution_count": 21
        }
      ],
      "source": [
        "# Fit a 6-cluster model.\n",
        "\n",
        "### YOUR CODE HERE ###\n",
        "\n",
        "kmeans6 = KMeans(n_clusters=6, random_state=42)\n",
        "kmeans6.fit(X_scaled)"
      ],
      "id": "tZhr41e6MXxo"
    },
    {
      "cell_type": "markdown",
      "metadata": {
        "id": "3f705fde"
      },
      "source": [
        "<details>\n",
        "  <summary><h4><strong>Hint 1</strong></h4></summary>\n",
        "\n",
        "Make an instance of the model with `num_clusters = 6` and use the `fit` function on `X_scaled`.\n",
        "</details>\n",
        "\n",
        "\n"
      ],
      "id": "3f705fde"
    },
    {
      "cell_type": "markdown",
      "metadata": {
        "id": "49f834ec"
      },
      "source": [
        "Print out the unique labels of the fit model."
      ],
      "id": "49f834ec"
    },
    {
      "cell_type": "code",
      "execution_count": 22,
      "metadata": {
        "colab": {
          "base_uri": "https://localhost:8080/"
        },
        "id": "mLB6AyhWMX54",
        "outputId": "ea4fc81c-d2b7-4ce3-dd04-5f2220cf9339"
      },
      "outputs": [
        {
          "output_type": "stream",
          "name": "stdout",
          "text": [
            "Unique labels: [0 1 2 3 4 5]\n"
          ]
        }
      ],
      "source": [
        "# Print unique labels.\n",
        "\n",
        "### YOUR CODE HERE ###\n",
        "\n",
        "print('Unique labels:', np.unique(kmeans6.labels_))"
      ],
      "id": "mLB6AyhWMX54"
    },
    {
      "cell_type": "markdown",
      "metadata": {
        "id": "080d87e3"
      },
      "source": [
        "Now, create a new column `cluster` that indicates cluster assignment in the DataFrame `penguins_subset`. It's important to understand the meaning of each cluster's labels, then decide whether the clustering makes sense.\n",
        "\n",
        "**Note:** This task is done using `penguins_subset` because it is often easier to interpret unscaled data."
      ],
      "id": "080d87e3"
    },
    {
      "cell_type": "code",
      "execution_count": 23,
      "metadata": {
        "colab": {
          "base_uri": "https://localhost:8080/",
          "height": 226
        },
        "id": "oxS6EJvZM1Ab",
        "outputId": "508ee6f0-a9dd-43e9-d358-8090823c93a8"
      },
      "outputs": [
        {
          "output_type": "execute_result",
          "data": {
            "text/plain": [
              "  species  bill_length_mm  bill_depth_mm  flipper_length_mm  body_mass_g  \\\n",
              "0  Adelie            39.1           18.7              181.0       3750.0   \n",
              "1  Adelie            39.5           17.4              186.0       3800.0   \n",
              "2  Adelie            40.3           18.0              195.0       3250.0   \n",
              "3  Adelie            36.7           19.3              193.0       3450.0   \n",
              "4  Adelie            39.3           20.6              190.0       3650.0   \n",
              "\n",
              "   sex_MALE  cluster  \n",
              "0         1        2  \n",
              "1         0        1  \n",
              "2         0        1  \n",
              "3         0        1  \n",
              "4         1        2  "
            ],
            "text/html": [
              "\n",
              "  <div id=\"df-22c3dc94-f097-4267-8b49-8a7635622f13\" class=\"colab-df-container\">\n",
              "    <div>\n",
              "<style scoped>\n",
              "    .dataframe tbody tr th:only-of-type {\n",
              "        vertical-align: middle;\n",
              "    }\n",
              "\n",
              "    .dataframe tbody tr th {\n",
              "        vertical-align: top;\n",
              "    }\n",
              "\n",
              "    .dataframe thead th {\n",
              "        text-align: right;\n",
              "    }\n",
              "</style>\n",
              "<table border=\"1\" class=\"dataframe\">\n",
              "  <thead>\n",
              "    <tr style=\"text-align: right;\">\n",
              "      <th></th>\n",
              "      <th>species</th>\n",
              "      <th>bill_length_mm</th>\n",
              "      <th>bill_depth_mm</th>\n",
              "      <th>flipper_length_mm</th>\n",
              "      <th>body_mass_g</th>\n",
              "      <th>sex_MALE</th>\n",
              "      <th>cluster</th>\n",
              "    </tr>\n",
              "  </thead>\n",
              "  <tbody>\n",
              "    <tr>\n",
              "      <th>0</th>\n",
              "      <td>Adelie</td>\n",
              "      <td>39.1</td>\n",
              "      <td>18.7</td>\n",
              "      <td>181.0</td>\n",
              "      <td>3750.0</td>\n",
              "      <td>1</td>\n",
              "      <td>2</td>\n",
              "    </tr>\n",
              "    <tr>\n",
              "      <th>1</th>\n",
              "      <td>Adelie</td>\n",
              "      <td>39.5</td>\n",
              "      <td>17.4</td>\n",
              "      <td>186.0</td>\n",
              "      <td>3800.0</td>\n",
              "      <td>0</td>\n",
              "      <td>1</td>\n",
              "    </tr>\n",
              "    <tr>\n",
              "      <th>2</th>\n",
              "      <td>Adelie</td>\n",
              "      <td>40.3</td>\n",
              "      <td>18.0</td>\n",
              "      <td>195.0</td>\n",
              "      <td>3250.0</td>\n",
              "      <td>0</td>\n",
              "      <td>1</td>\n",
              "    </tr>\n",
              "    <tr>\n",
              "      <th>3</th>\n",
              "      <td>Adelie</td>\n",
              "      <td>36.7</td>\n",
              "      <td>19.3</td>\n",
              "      <td>193.0</td>\n",
              "      <td>3450.0</td>\n",
              "      <td>0</td>\n",
              "      <td>1</td>\n",
              "    </tr>\n",
              "    <tr>\n",
              "      <th>4</th>\n",
              "      <td>Adelie</td>\n",
              "      <td>39.3</td>\n",
              "      <td>20.6</td>\n",
              "      <td>190.0</td>\n",
              "      <td>3650.0</td>\n",
              "      <td>1</td>\n",
              "      <td>2</td>\n",
              "    </tr>\n",
              "  </tbody>\n",
              "</table>\n",
              "</div>\n",
              "    <div class=\"colab-df-buttons\">\n",
              "\n",
              "  <div class=\"colab-df-container\">\n",
              "    <button class=\"colab-df-convert\" onclick=\"convertToInteractive('df-22c3dc94-f097-4267-8b49-8a7635622f13')\"\n",
              "            title=\"Convert this dataframe to an interactive table.\"\n",
              "            style=\"display:none;\">\n",
              "\n",
              "  <svg xmlns=\"http://www.w3.org/2000/svg\" height=\"24px\" viewBox=\"0 -960 960 960\">\n",
              "    <path d=\"M120-120v-720h720v720H120Zm60-500h600v-160H180v160Zm220 220h160v-160H400v160Zm0 220h160v-160H400v160ZM180-400h160v-160H180v160Zm440 0h160v-160H620v160ZM180-180h160v-160H180v160Zm440 0h160v-160H620v160Z\"/>\n",
              "  </svg>\n",
              "    </button>\n",
              "\n",
              "  <style>\n",
              "    .colab-df-container {\n",
              "      display:flex;\n",
              "      gap: 12px;\n",
              "    }\n",
              "\n",
              "    .colab-df-convert {\n",
              "      background-color: #E8F0FE;\n",
              "      border: none;\n",
              "      border-radius: 50%;\n",
              "      cursor: pointer;\n",
              "      display: none;\n",
              "      fill: #1967D2;\n",
              "      height: 32px;\n",
              "      padding: 0 0 0 0;\n",
              "      width: 32px;\n",
              "    }\n",
              "\n",
              "    .colab-df-convert:hover {\n",
              "      background-color: #E2EBFA;\n",
              "      box-shadow: 0px 1px 2px rgba(60, 64, 67, 0.3), 0px 1px 3px 1px rgba(60, 64, 67, 0.15);\n",
              "      fill: #174EA6;\n",
              "    }\n",
              "\n",
              "    .colab-df-buttons div {\n",
              "      margin-bottom: 4px;\n",
              "    }\n",
              "\n",
              "    [theme=dark] .colab-df-convert {\n",
              "      background-color: #3B4455;\n",
              "      fill: #D2E3FC;\n",
              "    }\n",
              "\n",
              "    [theme=dark] .colab-df-convert:hover {\n",
              "      background-color: #434B5C;\n",
              "      box-shadow: 0px 1px 3px 1px rgba(0, 0, 0, 0.15);\n",
              "      filter: drop-shadow(0px 1px 2px rgba(0, 0, 0, 0.3));\n",
              "      fill: #FFFFFF;\n",
              "    }\n",
              "  </style>\n",
              "\n",
              "    <script>\n",
              "      const buttonEl =\n",
              "        document.querySelector('#df-22c3dc94-f097-4267-8b49-8a7635622f13 button.colab-df-convert');\n",
              "      buttonEl.style.display =\n",
              "        google.colab.kernel.accessAllowed ? 'block' : 'none';\n",
              "\n",
              "      async function convertToInteractive(key) {\n",
              "        const element = document.querySelector('#df-22c3dc94-f097-4267-8b49-8a7635622f13');\n",
              "        const dataTable =\n",
              "          await google.colab.kernel.invokeFunction('convertToInteractive',\n",
              "                                                    [key], {});\n",
              "        if (!dataTable) return;\n",
              "\n",
              "        const docLinkHtml = 'Like what you see? Visit the ' +\n",
              "          '<a target=\"_blank\" href=https://colab.research.google.com/notebooks/data_table.ipynb>data table notebook</a>'\n",
              "          + ' to learn more about interactive tables.';\n",
              "        element.innerHTML = '';\n",
              "        dataTable['output_type'] = 'display_data';\n",
              "        await google.colab.output.renderOutput(dataTable, element);\n",
              "        const docLink = document.createElement('div');\n",
              "        docLink.innerHTML = docLinkHtml;\n",
              "        element.appendChild(docLink);\n",
              "      }\n",
              "    </script>\n",
              "  </div>\n",
              "\n",
              "\n",
              "<div id=\"df-1e4d0693-e826-416e-9394-5162c831ef53\">\n",
              "  <button class=\"colab-df-quickchart\" onclick=\"quickchart('df-1e4d0693-e826-416e-9394-5162c831ef53')\"\n",
              "            title=\"Suggest charts\"\n",
              "            style=\"display:none;\">\n",
              "\n",
              "<svg xmlns=\"http://www.w3.org/2000/svg\" height=\"24px\"viewBox=\"0 0 24 24\"\n",
              "     width=\"24px\">\n",
              "    <g>\n",
              "        <path d=\"M19 3H5c-1.1 0-2 .9-2 2v14c0 1.1.9 2 2 2h14c1.1 0 2-.9 2-2V5c0-1.1-.9-2-2-2zM9 17H7v-7h2v7zm4 0h-2V7h2v10zm4 0h-2v-4h2v4z\"/>\n",
              "    </g>\n",
              "</svg>\n",
              "  </button>\n",
              "\n",
              "<style>\n",
              "  .colab-df-quickchart {\n",
              "      --bg-color: #E8F0FE;\n",
              "      --fill-color: #1967D2;\n",
              "      --hover-bg-color: #E2EBFA;\n",
              "      --hover-fill-color: #174EA6;\n",
              "      --disabled-fill-color: #AAA;\n",
              "      --disabled-bg-color: #DDD;\n",
              "  }\n",
              "\n",
              "  [theme=dark] .colab-df-quickchart {\n",
              "      --bg-color: #3B4455;\n",
              "      --fill-color: #D2E3FC;\n",
              "      --hover-bg-color: #434B5C;\n",
              "      --hover-fill-color: #FFFFFF;\n",
              "      --disabled-bg-color: #3B4455;\n",
              "      --disabled-fill-color: #666;\n",
              "  }\n",
              "\n",
              "  .colab-df-quickchart {\n",
              "    background-color: var(--bg-color);\n",
              "    border: none;\n",
              "    border-radius: 50%;\n",
              "    cursor: pointer;\n",
              "    display: none;\n",
              "    fill: var(--fill-color);\n",
              "    height: 32px;\n",
              "    padding: 0;\n",
              "    width: 32px;\n",
              "  }\n",
              "\n",
              "  .colab-df-quickchart:hover {\n",
              "    background-color: var(--hover-bg-color);\n",
              "    box-shadow: 0 1px 2px rgba(60, 64, 67, 0.3), 0 1px 3px 1px rgba(60, 64, 67, 0.15);\n",
              "    fill: var(--button-hover-fill-color);\n",
              "  }\n",
              "\n",
              "  .colab-df-quickchart-complete:disabled,\n",
              "  .colab-df-quickchart-complete:disabled:hover {\n",
              "    background-color: var(--disabled-bg-color);\n",
              "    fill: var(--disabled-fill-color);\n",
              "    box-shadow: none;\n",
              "  }\n",
              "\n",
              "  .colab-df-spinner {\n",
              "    border: 2px solid var(--fill-color);\n",
              "    border-color: transparent;\n",
              "    border-bottom-color: var(--fill-color);\n",
              "    animation:\n",
              "      spin 1s steps(1) infinite;\n",
              "  }\n",
              "\n",
              "  @keyframes spin {\n",
              "    0% {\n",
              "      border-color: transparent;\n",
              "      border-bottom-color: var(--fill-color);\n",
              "      border-left-color: var(--fill-color);\n",
              "    }\n",
              "    20% {\n",
              "      border-color: transparent;\n",
              "      border-left-color: var(--fill-color);\n",
              "      border-top-color: var(--fill-color);\n",
              "    }\n",
              "    30% {\n",
              "      border-color: transparent;\n",
              "      border-left-color: var(--fill-color);\n",
              "      border-top-color: var(--fill-color);\n",
              "      border-right-color: var(--fill-color);\n",
              "    }\n",
              "    40% {\n",
              "      border-color: transparent;\n",
              "      border-right-color: var(--fill-color);\n",
              "      border-top-color: var(--fill-color);\n",
              "    }\n",
              "    60% {\n",
              "      border-color: transparent;\n",
              "      border-right-color: var(--fill-color);\n",
              "    }\n",
              "    80% {\n",
              "      border-color: transparent;\n",
              "      border-right-color: var(--fill-color);\n",
              "      border-bottom-color: var(--fill-color);\n",
              "    }\n",
              "    90% {\n",
              "      border-color: transparent;\n",
              "      border-bottom-color: var(--fill-color);\n",
              "    }\n",
              "  }\n",
              "</style>\n",
              "\n",
              "  <script>\n",
              "    async function quickchart(key) {\n",
              "      const quickchartButtonEl =\n",
              "        document.querySelector('#' + key + ' button');\n",
              "      quickchartButtonEl.disabled = true;  // To prevent multiple clicks.\n",
              "      quickchartButtonEl.classList.add('colab-df-spinner');\n",
              "      try {\n",
              "        const charts = await google.colab.kernel.invokeFunction(\n",
              "            'suggestCharts', [key], {});\n",
              "      } catch (error) {\n",
              "        console.error('Error during call to suggestCharts:', error);\n",
              "      }\n",
              "      quickchartButtonEl.classList.remove('colab-df-spinner');\n",
              "      quickchartButtonEl.classList.add('colab-df-quickchart-complete');\n",
              "    }\n",
              "    (() => {\n",
              "      let quickchartButtonEl =\n",
              "        document.querySelector('#df-1e4d0693-e826-416e-9394-5162c831ef53 button');\n",
              "      quickchartButtonEl.style.display =\n",
              "        google.colab.kernel.accessAllowed ? 'block' : 'none';\n",
              "    })();\n",
              "  </script>\n",
              "</div>\n",
              "    </div>\n",
              "  </div>\n"
            ]
          },
          "metadata": {},
          "execution_count": 23
        }
      ],
      "source": [
        "# Create a new column `cluster`.\n",
        "\n",
        "### YOUR CODE HERE ###\n",
        "\n",
        "penguins_subset['cluster'] = kmeans6.labels_\n",
        "penguins_subset.head()"
      ],
      "id": "oxS6EJvZM1Ab"
    },
    {
      "cell_type": "markdown",
      "metadata": {
        "id": "0c3fe6a3"
      },
      "source": [
        "Use `groupby` to verify if any `'cluster'` can be differentiated by `'species'`."
      ],
      "id": "0c3fe6a3"
    },
    {
      "cell_type": "code",
      "execution_count": 24,
      "metadata": {
        "colab": {
          "base_uri": "https://localhost:8080/"
        },
        "id": "051b144d",
        "outputId": "67687997-5435-4ab8-9d22-428375734df5"
      },
      "outputs": [
        {
          "output_type": "execute_result",
          "data": {
            "text/plain": [
              "cluster  species  \n",
              "0        Gentoo       58\n",
              "1        Adelie       73\n",
              "         Chinstrap     5\n",
              "2        Adelie       71\n",
              "3        Adelie        2\n",
              "         Chinstrap    34\n",
              "4        Gentoo       61\n",
              "5        Chinstrap    29\n",
              "dtype: int64"
            ]
          },
          "metadata": {},
          "execution_count": 24
        }
      ],
      "source": [
        "# Verify if any `cluster` can be differentiated by `species`.\n",
        "\n",
        "### YOUR CODE HERE ###\n",
        "\n",
        "penguins_subset.groupby(by=['cluster', 'species']).size()"
      ],
      "id": "051b144d"
    },
    {
      "cell_type": "markdown",
      "metadata": {
        "id": "6cb2c53e"
      },
      "source": [
        "<details>\n",
        "  <summary><h4><strong>Hint 1</strong></h4></summary>\n",
        "\n",
        "Use `groupby(by=['cluster', 'species'])`.\n",
        "\n",
        "</details>\n"
      ],
      "id": "6cb2c53e"
    },
    {
      "cell_type": "markdown",
      "metadata": {
        "id": "f42d5be4"
      },
      "source": [
        "<details>\n",
        "  <summary><h4><strong>Hint 2</strong></h4></summary>\n",
        "\n",
        "\n",
        "Use an aggregation function such as `size`.\n",
        "\n",
        "</details>"
      ],
      "id": "f42d5be4"
    },
    {
      "cell_type": "markdown",
      "metadata": {
        "id": "QACZiuWYM59u"
      },
      "source": [
        "Next, interpret the groupby outputs. Although the results of the groupby show that each `'cluster'` can be differentiated by `'species'`, it is useful to visualize these results. The graph shows that each `'cluster'` can be differentiated by `'species'`."
      ],
      "id": "QACZiuWYM59u"
    },
    {
      "cell_type": "code",
      "execution_count": 25,
      "metadata": {
        "colab": {
          "base_uri": "https://localhost:8080/",
          "height": 312
        },
        "id": "ScRX4uWfNqo6",
        "outputId": "cca51dfa-7727-4eb7-85db-0190b9794598"
      },
      "outputs": [
        {
          "output_type": "display_data",
          "data": {
            "text/plain": [
              "<Figure size 2200x800 with 1 Axes>"
            ],
            "image/png": "[encoded data removed]"
          },
          "metadata": {}
        }
      ],
      "source": [
        "penguins_subset.groupby(by=['cluster', 'species']).size().plot.bar(title='Clusters differentiated by species',\n",
        "                                                                   figsize=(22, 8),\n",
        "                                                                   ylabel='Size',\n",
        "                                                                   xlabel='(Cluster, Species)');"
      ],
      "id": "ScRX4uWfNqo6"
    },
    {
      "cell_type": "markdown",
      "metadata": {
        "id": "f1b82368"
      },
      "source": [
        "Use `groupby` to verify if each `'cluster'` can be differentiated by `'species'` AND `'sex_MALE'`."
      ],
      "id": "f1b82368"
    },
    {
      "cell_type": "code",
      "execution_count": 26,
      "metadata": {
        "colab": {
          "base_uri": "https://localhost:8080/"
        },
        "id": "2cf5adc2",
        "outputId": "abb23ae3-d08b-4cd0-e7c7-fc11c6893514"
      },
      "outputs": [
        {
          "output_type": "execute_result",
          "data": {
            "text/plain": [
              "cluster  species    sex_MALE\n",
              "1        Adelie     0           73\n",
              "2        Adelie     1           71\n",
              "4        Gentoo     1           61\n",
              "0        Gentoo     0           58\n",
              "3        Chinstrap  1           34\n",
              "5        Chinstrap  0           29\n",
              "1        Chinstrap  0            5\n",
              "3        Adelie     1            2\n",
              "dtype: int64"
            ]
          },
          "metadata": {},
          "execution_count": 26
        }
      ],
      "source": [
        "# Verify if each `cluster` can be differentiated by `species` AND `sex_MALE`.\n",
        "\n",
        "### YOUR CODE HERE ###\n",
        "\n",
        "penguins_subset.groupby(by=['cluster','species', 'sex_MALE']).size().sort_values(ascending = False)"
      ],
      "id": "2cf5adc2"
    },
    {
      "cell_type": "markdown",
      "metadata": {
        "id": "f0ad7c32"
      },
      "source": [
        "<details>\n",
        "  <summary><h4><strong>Hint 1</strong></h4></summary>\n",
        "\n",
        "Use `groupby(by=['cluster','species', 'sex_MALE'])`.\n",
        "</details>\n"
      ],
      "id": "f0ad7c32"
    },
    {
      "cell_type": "markdown",
      "metadata": {
        "id": "d667d4ce"
      },
      "source": [
        "<details>\n",
        "  <summary><h4><strong>Hint 2</strong></h4></summary>\n",
        "\n",
        "Use an aggregation function such as `size`.\n",
        "</details>"
      ],
      "id": "d667d4ce"
    },
    {
      "cell_type": "markdown",
      "metadata": {
        "id": "ae471434"
      },
      "source": [
        "**Question:** Are the clusters differentiated by `'species'` and `'sex_MALE'`?\n",
        "\n",
        "Even though clusters 1 and 3 weren't all one species or sex, the `groupby` indicates that the algorithm produced clusters mostly differentiated by species and sex."
      ],
      "id": "ae471434"
    },
    {
      "cell_type": "markdown",
      "metadata": {
        "id": "cZ2nyRt7cqbH"
      },
      "source": [
        "Finally, interpret the groupby outputs and visualize these results. The graph shows that each `'cluster'` can be differentiated by `'species'` and `'sex_MALE'`. Furthermore, each cluster is mostly comprised of one sex and one species."
      ],
      "id": "cZ2nyRt7cqbH"
    },
    {
      "cell_type": "code",
      "execution_count": 27,
      "metadata": {
        "colab": {
          "base_uri": "https://localhost:8080/",
          "height": 256
        },
        "id": "Xw-g03su8_4Z",
        "outputId": "b07492f6-c003-4e11-8e8c-632b5aff98e9"
      },
      "outputs": [
        {
          "output_type": "execute_result",
          "data": {
            "text/plain": [
              "<matplotlib.legend.Legend at 0x7d8f19e45c60>"
            ]
          },
          "metadata": {},
          "execution_count": 27
        },
        {
          "output_type": "display_data",
          "data": {
            "text/plain": [
              "<Figure size 2100x800 with 1 Axes>"
            ],
            "image/png": "[encoded data removed]"
          },
          "metadata": {}
        }
      ],
      "source": [
        "penguins_subset.groupby(by=['cluster','species','sex_MALE']).size().unstack(level = 'species', fill_value=0).plot.bar(title='Clusters differentiated by species and sex',\n",
        "                                                                                                                      figsize=(21, 8),\n",
        "                                                                                                                      ylabel='Size',\n",
        "                                                                                                                      xlabel='(Cluster, Sex)')\n",
        "plt.legend(bbox_to_anchor=(1.3, 1.0))"
      ],
      "id": "Xw-g03su8_4Z"
    },
    {
      "cell_type": "markdown",
      "metadata": {
        "id": "4DRcgiMgM1HP"
      },
      "source": [
        "## **Considerations**\n",
        "\n",
        "**What are some key takeaways that you learned during this lab? Consider the process you used, key tools, and the results of your investigation.**\n",
        "-   Many machine learning workflows are about cleaning, encoding, and scaling data.\n",
        "-   Inertia and silhouette score can be used to find the optimal value of clusters.\n",
        "-   Clusters can find natural groupings in data.\n",
        "-   The clusters in this lab are mostly differentiated by species and sex as shown by the groupby results and corresponding graphs.\n",
        "-   The elbow plot and especially the silhouette scores suggests that 6 clusters are optimal for this data.\n",
        "-   Having 6 clusters makes sense because the study suggests that there is sexual dimorphism (differences between the sexes) for each of the three species (2 sexes * 3 different species = 6 clusters).\n",
        "\n",
        "**What summary would you provide to stakeholders?**\n",
        "*  The K-means clustering enabled this data to be effectively grouped. It helped identify patterns that can educate team members about penguins.\n",
        "*  The success of the cluster results suggests that the organization can apply clustering to other projects and continue augmenting employee education.\n",
        "\n",
        "\n",
        "\n"
      ],
      "id": "4DRcgiMgM1HP"
    }
  ],
  "metadata": {
    "colab": {
      "provenance": []
    },
    "gpuClass": "standard",
    "kernelspec": {
      "display_name": "Python 3",
      "language": "python",
      "name": "python3"
    },
    "language_info": {
      "codemirror_mode": {
        "name": "ipython",
        "version": 3
      },
      "file_extension": ".py",
      "mimetype": "text/x-python",
      "name": "python",
      "nbconvert_exporter": "python",
      "pygments_lexer": "ipython3",
      "version": "3.7.6"
    }
  },
  "nbformat": 4,
  "nbformat_minor": 5
}